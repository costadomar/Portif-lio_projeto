{
  "nbformat": 4,
  "nbformat_minor": 0,
  "metadata": {
    "colab": {
      "name": "Cópia de RGS 13 - Case 2.ipynb",
      "provenance": [],
      "collapsed_sections": [],
      "include_colab_link": true
    },
    "kernelspec": {
      "name": "python3",
      "display_name": "Python 3"
    },
    "language_info": {
      "name": "python"
    }
  },
  "cells": [
    {
      "cell_type": "markdown",
      "metadata": {
        "id": "view-in-github",
        "colab_type": "text"
      },
      "source": [
        "<a href=\"https://colab.research.google.com/github/costadomar/Portif-lio_projeto/blob/main/RGS_13_Case_2.ipynb\" target=\"_parent\"><img src=\"https://colab.research.google.com/assets/colab-badge.svg\" alt=\"Open In Colab\"/></a>"
      ]
    },
    {
      "cell_type": "markdown",
      "metadata": {
        "id": "u5I6IqGTabns"
      },
      "source": [
        "Ajude **Santander** a identificar o valor das transações para cada cliente potencial. Esse é um primeiro passo que o **Santander** precisa acertar para personalizar seus serviços em grande escala."
      ]
    },
    {
      "cell_type": "markdown",
      "metadata": {
        "id": "eAeDxWfEaeU_"
      },
      "source": [
        "Baixa o dataset *train* no url seguinte:  \n",
        "https://www.kaggle.com/c/santander-value-prediction-challenge/data"
      ]
    },
    {
      "cell_type": "markdown",
      "metadata": {
        "id": "Q5yEmOxGaimP"
      },
      "source": [
        "Depois, pode deixar ele na pasta `colab_data` do `Drive` (com um *Drag and Drop*)"
      ]
    },
    {
      "cell_type": "markdown",
      "metadata": {
        "id": "VUsBC2i3alci"
      },
      "source": [
        "O case podera ser quebrado nas **6** partes seguintes:  \n",
        "- **Identificar o problema**\n",
        "  - Qual o tipo (classificaçao, regressao, clustering) de problema e porque? \n",
        "- **Necessidades de aplicar transformaçoes?**\n",
        "  - Ex: *imputing* de valores null, *encoding* de colunas *string*, etc \n",
        "- **Separar os sets de treinamento e teste**\n",
        "- **Baseline**\n",
        "  - Achar uma baseline, um primeiro modelo para ter uma referencia\n",
        "- **Escolher a metrica**\n",
        "- **Melhorar o resultado**\n",
        "  - Feature engineering, otimizaçao do modelo, hiperparametros, etc"
      ]
    },
    {
      "cell_type": "markdown",
      "source": [
        "#1. Identificando o problema\n",
        "\n",
        "O problema apresentando pelo santander é de ***regressão***, devido a ter que identificar um valor de transação para um cliente em potencial, ajudando o Santander personalizar os seus servições de acordo com a necessidade de cada cliente."
      ],
      "metadata": {
        "id": "i6FNEe4f_hMh"
      }
    },
    {
      "cell_type": "markdown",
      "source": [
        ""
      ],
      "metadata": {
        "id": "ZsAgWMvU-FZz"
      }
    },
    {
      "cell_type": "markdown",
      "source": [
        "#2. Carregando a Base de dados"
      ],
      "metadata": {
        "id": "DVmOoTcTAzz8"
      }
    },
    {
      "cell_type": "code",
      "source": [
        "import pandas as pd\n",
        "import seaborn as sns\n",
        "import matplotlib.pyplot as plt\n",
        "import numpy as np\n",
        "from sklearn.model_selection import train_test_split\n",
        "from sklearn.linear_model import LinearRegression\n",
        "from sklearn.metrics import mean_absolute_error, mean_squared_log_error\n",
        "from sklearn.feature_selection import SelectKBest, f_regression\n",
        "from sklearn.ensemble import RandomForestRegressor\n",
        "from sklearn.model_selection import GridSearchCV\n",
        "from xgboost import XGBRegressor\n",
        "\n",
        "import warnings\n",
        "warnings.filterwarnings(\"ignore\")\n",
        "\n",
        "plt.rcParams[\"figure.figsize\"] = (14,6)"
      ],
      "metadata": {
        "id": "A3aAbOVOB_6C"
      },
      "execution_count": null,
      "outputs": []
    },
    {
      "cell_type": "code",
      "source": [
        "from google.colab import drive\n",
        "drive.mount('/content/drive')"
      ],
      "metadata": {
        "colab": {
          "base_uri": "https://localhost:8080/"
        },
        "id": "jFTFTuXo8ssq",
        "outputId": "9344dc98-e772-4c1e-e557-9cd7d816b7fe"
      },
      "execution_count": null,
      "outputs": [
        {
          "output_type": "stream",
          "name": "stdout",
          "text": [
            "Mounted at /content/drive\n"
          ]
        }
      ]
    },
    {
      "cell_type": "code",
      "metadata": {
        "id": "mZkOwu3sadpt",
        "colab": {
          "base_uri": "https://localhost:8080/",
          "height": 300
        },
        "outputId": "4689e3b3-6be8-4118-b24a-31a11d4f9890"
      },
      "source": [
        "df = pd.read_csv(\"/content/drive/MyDrive/Colab Notebooks/data_colab/train.csv\")\n",
        "df.head()"
      ],
      "execution_count": null,
      "outputs": [
        {
          "output_type": "execute_result",
          "data": {
            "text/html": [
              "\n",
              "  <div id=\"df-f969ecca-e0c6-49af-9137-ed2661349623\">\n",
              "    <div class=\"colab-df-container\">\n",
              "      <div>\n",
              "<style scoped>\n",
              "    .dataframe tbody tr th:only-of-type {\n",
              "        vertical-align: middle;\n",
              "    }\n",
              "\n",
              "    .dataframe tbody tr th {\n",
              "        vertical-align: top;\n",
              "    }\n",
              "\n",
              "    .dataframe thead th {\n",
              "        text-align: right;\n",
              "    }\n",
              "</style>\n",
              "<table border=\"1\" class=\"dataframe\">\n",
              "  <thead>\n",
              "    <tr style=\"text-align: right;\">\n",
              "      <th></th>\n",
              "      <th>ID</th>\n",
              "      <th>target</th>\n",
              "      <th>48df886f9</th>\n",
              "      <th>0deb4b6a8</th>\n",
              "      <th>34b15f335</th>\n",
              "      <th>a8cb14b00</th>\n",
              "      <th>2f0771a37</th>\n",
              "      <th>30347e683</th>\n",
              "      <th>d08d1fbe3</th>\n",
              "      <th>6ee66e115</th>\n",
              "      <th>20aa07010</th>\n",
              "      <th>dc5a8f1d8</th>\n",
              "      <th>11d86fa6a</th>\n",
              "      <th>77c9823f2</th>\n",
              "      <th>8d6c2a0b2</th>\n",
              "      <th>4681de4fd</th>\n",
              "      <th>adf119b9a</th>\n",
              "      <th>cff75dd09</th>\n",
              "      <th>96f83a237</th>\n",
              "      <th>b8a716ebf</th>\n",
              "      <th>6c7a4567c</th>\n",
              "      <th>4fcfd2b4d</th>\n",
              "      <th>f3b9c0b95</th>\n",
              "      <th>71cebf11c</th>\n",
              "      <th>d966ac62c</th>\n",
              "      <th>68b647452</th>\n",
              "      <th>c88d108c9</th>\n",
              "      <th>ff7b471cd</th>\n",
              "      <th>d5308d8bc</th>\n",
              "      <th>0d866c3d7</th>\n",
              "      <th>bc3f77679</th>\n",
              "      <th>bd8f989f1</th>\n",
              "      <th>0eff5bf95</th>\n",
              "      <th>22ed6dba3</th>\n",
              "      <th>92b13ebba</th>\n",
              "      <th>c330f1a67</th>\n",
              "      <th>233c7c17c</th>\n",
              "      <th>2cb4d123e</th>\n",
              "      <th>eeac16933</th>\n",
              "      <th>87ffda550</th>\n",
              "      <th>...</th>\n",
              "      <th>969caa87a</th>\n",
              "      <th>00302fe51</th>\n",
              "      <th>1189ee335</th>\n",
              "      <th>ca04a07ca</th>\n",
              "      <th>f6f15ffa5</th>\n",
              "      <th>841704460</th>\n",
              "      <th>ea5ed6ff7</th>\n",
              "      <th>b1bb8eac3</th>\n",
              "      <th>8132d18b8</th>\n",
              "      <th>c24ea6548</th>\n",
              "      <th>cdfc2b069</th>\n",
              "      <th>2a879b4f7</th>\n",
              "      <th>6b119d8ce</th>\n",
              "      <th>98dea9e42</th>\n",
              "      <th>9f2471031</th>\n",
              "      <th>88458cb21</th>\n",
              "      <th>f40da20f4</th>\n",
              "      <th>7ad6b38bd</th>\n",
              "      <th>c901e7df1</th>\n",
              "      <th>8f55955dc</th>\n",
              "      <th>85dcc913d</th>\n",
              "      <th>5ca0b9b0c</th>\n",
              "      <th>eab8abf7a</th>\n",
              "      <th>8d8bffbae</th>\n",
              "      <th>2a1f6c7f9</th>\n",
              "      <th>9437d8b64</th>\n",
              "      <th>5831f4c76</th>\n",
              "      <th>2e84e09c5</th>\n",
              "      <th>d45fd5508</th>\n",
              "      <th>a165f5761</th>\n",
              "      <th>3ecc09859</th>\n",
              "      <th>9281abeea</th>\n",
              "      <th>8675bec0b</th>\n",
              "      <th>3a13ed79a</th>\n",
              "      <th>f677d4d13</th>\n",
              "      <th>71b203550</th>\n",
              "      <th>137efaa80</th>\n",
              "      <th>fb36b89d9</th>\n",
              "      <th>7e293fbaf</th>\n",
              "      <th>9fc776466</th>\n",
              "    </tr>\n",
              "  </thead>\n",
              "  <tbody>\n",
              "    <tr>\n",
              "      <th>0</th>\n",
              "      <td>000d6aaf2</td>\n",
              "      <td>38000000.0</td>\n",
              "      <td>0.0</td>\n",
              "      <td>0</td>\n",
              "      <td>0.0</td>\n",
              "      <td>0</td>\n",
              "      <td>0</td>\n",
              "      <td>0</td>\n",
              "      <td>0</td>\n",
              "      <td>0</td>\n",
              "      <td>0.0</td>\n",
              "      <td>0.0</td>\n",
              "      <td>0.0</td>\n",
              "      <td>0</td>\n",
              "      <td>0</td>\n",
              "      <td>0</td>\n",
              "      <td>0</td>\n",
              "      <td>0.0</td>\n",
              "      <td>0</td>\n",
              "      <td>0.0</td>\n",
              "      <td>0</td>\n",
              "      <td>0</td>\n",
              "      <td>0.0</td>\n",
              "      <td>0</td>\n",
              "      <td>0</td>\n",
              "      <td>0.0</td>\n",
              "      <td>0</td>\n",
              "      <td>0</td>\n",
              "      <td>0</td>\n",
              "      <td>0.0</td>\n",
              "      <td>0</td>\n",
              "      <td>0.0</td>\n",
              "      <td>0</td>\n",
              "      <td>0.0</td>\n",
              "      <td>0.0</td>\n",
              "      <td>0</td>\n",
              "      <td>0.0</td>\n",
              "      <td>0</td>\n",
              "      <td>0</td>\n",
              "      <td>1300000.0</td>\n",
              "      <td>...</td>\n",
              "      <td>0</td>\n",
              "      <td>0</td>\n",
              "      <td>1100000.0</td>\n",
              "      <td>0</td>\n",
              "      <td>0</td>\n",
              "      <td>0</td>\n",
              "      <td>0.0</td>\n",
              "      <td>0.0</td>\n",
              "      <td>14800000</td>\n",
              "      <td>0.0</td>\n",
              "      <td>1200000.0</td>\n",
              "      <td>0.0</td>\n",
              "      <td>0.0</td>\n",
              "      <td>0</td>\n",
              "      <td>0</td>\n",
              "      <td>0</td>\n",
              "      <td>0</td>\n",
              "      <td>0.0</td>\n",
              "      <td>4000000</td>\n",
              "      <td>0</td>\n",
              "      <td>0.0</td>\n",
              "      <td>0</td>\n",
              "      <td>0</td>\n",
              "      <td>0.0</td>\n",
              "      <td>0</td>\n",
              "      <td>0</td>\n",
              "      <td>0.0</td>\n",
              "      <td>0</td>\n",
              "      <td>0</td>\n",
              "      <td>0.0</td>\n",
              "      <td>0.0</td>\n",
              "      <td>0.0</td>\n",
              "      <td>0.0</td>\n",
              "      <td>0</td>\n",
              "      <td>0</td>\n",
              "      <td>0</td>\n",
              "      <td>0</td>\n",
              "      <td>0</td>\n",
              "      <td>0</td>\n",
              "      <td>0</td>\n",
              "    </tr>\n",
              "    <tr>\n",
              "      <th>1</th>\n",
              "      <td>000fbd867</td>\n",
              "      <td>600000.0</td>\n",
              "      <td>0.0</td>\n",
              "      <td>0</td>\n",
              "      <td>0.0</td>\n",
              "      <td>0</td>\n",
              "      <td>0</td>\n",
              "      <td>0</td>\n",
              "      <td>0</td>\n",
              "      <td>0</td>\n",
              "      <td>2200000.0</td>\n",
              "      <td>0.0</td>\n",
              "      <td>0.0</td>\n",
              "      <td>0</td>\n",
              "      <td>0</td>\n",
              "      <td>0</td>\n",
              "      <td>0</td>\n",
              "      <td>0.0</td>\n",
              "      <td>0</td>\n",
              "      <td>0.0</td>\n",
              "      <td>0</td>\n",
              "      <td>0</td>\n",
              "      <td>0.0</td>\n",
              "      <td>0</td>\n",
              "      <td>0</td>\n",
              "      <td>0.0</td>\n",
              "      <td>0</td>\n",
              "      <td>0</td>\n",
              "      <td>0</td>\n",
              "      <td>0.0</td>\n",
              "      <td>0</td>\n",
              "      <td>0.0</td>\n",
              "      <td>0</td>\n",
              "      <td>0.0</td>\n",
              "      <td>0.0</td>\n",
              "      <td>0</td>\n",
              "      <td>0.0</td>\n",
              "      <td>0</td>\n",
              "      <td>0</td>\n",
              "      <td>0.0</td>\n",
              "      <td>...</td>\n",
              "      <td>0</td>\n",
              "      <td>0</td>\n",
              "      <td>0.0</td>\n",
              "      <td>0</td>\n",
              "      <td>0</td>\n",
              "      <td>0</td>\n",
              "      <td>0.0</td>\n",
              "      <td>0.0</td>\n",
              "      <td>0</td>\n",
              "      <td>0.0</td>\n",
              "      <td>0.0</td>\n",
              "      <td>0.0</td>\n",
              "      <td>0.0</td>\n",
              "      <td>0</td>\n",
              "      <td>0</td>\n",
              "      <td>0</td>\n",
              "      <td>0</td>\n",
              "      <td>0.0</td>\n",
              "      <td>0</td>\n",
              "      <td>0</td>\n",
              "      <td>0.0</td>\n",
              "      <td>0</td>\n",
              "      <td>0</td>\n",
              "      <td>0.0</td>\n",
              "      <td>0</td>\n",
              "      <td>0</td>\n",
              "      <td>0.0</td>\n",
              "      <td>0</td>\n",
              "      <td>0</td>\n",
              "      <td>0.0</td>\n",
              "      <td>0.0</td>\n",
              "      <td>0.0</td>\n",
              "      <td>0.0</td>\n",
              "      <td>0</td>\n",
              "      <td>0</td>\n",
              "      <td>0</td>\n",
              "      <td>0</td>\n",
              "      <td>0</td>\n",
              "      <td>0</td>\n",
              "      <td>0</td>\n",
              "    </tr>\n",
              "    <tr>\n",
              "      <th>2</th>\n",
              "      <td>0027d6b71</td>\n",
              "      <td>10000000.0</td>\n",
              "      <td>0.0</td>\n",
              "      <td>0</td>\n",
              "      <td>0.0</td>\n",
              "      <td>0</td>\n",
              "      <td>0</td>\n",
              "      <td>0</td>\n",
              "      <td>0</td>\n",
              "      <td>0</td>\n",
              "      <td>0.0</td>\n",
              "      <td>0.0</td>\n",
              "      <td>0.0</td>\n",
              "      <td>0</td>\n",
              "      <td>0</td>\n",
              "      <td>0</td>\n",
              "      <td>0</td>\n",
              "      <td>0.0</td>\n",
              "      <td>0</td>\n",
              "      <td>0.0</td>\n",
              "      <td>0</td>\n",
              "      <td>0</td>\n",
              "      <td>0.0</td>\n",
              "      <td>0</td>\n",
              "      <td>0</td>\n",
              "      <td>0.0</td>\n",
              "      <td>0</td>\n",
              "      <td>0</td>\n",
              "      <td>0</td>\n",
              "      <td>0.0</td>\n",
              "      <td>0</td>\n",
              "      <td>0.0</td>\n",
              "      <td>0</td>\n",
              "      <td>0.0</td>\n",
              "      <td>0.0</td>\n",
              "      <td>0</td>\n",
              "      <td>0.0</td>\n",
              "      <td>0</td>\n",
              "      <td>0</td>\n",
              "      <td>0.0</td>\n",
              "      <td>...</td>\n",
              "      <td>0</td>\n",
              "      <td>0</td>\n",
              "      <td>0.0</td>\n",
              "      <td>0</td>\n",
              "      <td>0</td>\n",
              "      <td>0</td>\n",
              "      <td>0.0</td>\n",
              "      <td>0.0</td>\n",
              "      <td>0</td>\n",
              "      <td>0.0</td>\n",
              "      <td>0.0</td>\n",
              "      <td>0.0</td>\n",
              "      <td>0.0</td>\n",
              "      <td>0</td>\n",
              "      <td>0</td>\n",
              "      <td>0</td>\n",
              "      <td>0</td>\n",
              "      <td>0.0</td>\n",
              "      <td>0</td>\n",
              "      <td>0</td>\n",
              "      <td>0.0</td>\n",
              "      <td>0</td>\n",
              "      <td>0</td>\n",
              "      <td>0.0</td>\n",
              "      <td>0</td>\n",
              "      <td>0</td>\n",
              "      <td>0.0</td>\n",
              "      <td>0</td>\n",
              "      <td>0</td>\n",
              "      <td>0.0</td>\n",
              "      <td>0.0</td>\n",
              "      <td>0.0</td>\n",
              "      <td>0.0</td>\n",
              "      <td>0</td>\n",
              "      <td>0</td>\n",
              "      <td>0</td>\n",
              "      <td>0</td>\n",
              "      <td>0</td>\n",
              "      <td>0</td>\n",
              "      <td>0</td>\n",
              "    </tr>\n",
              "    <tr>\n",
              "      <th>3</th>\n",
              "      <td>0028cbf45</td>\n",
              "      <td>2000000.0</td>\n",
              "      <td>0.0</td>\n",
              "      <td>0</td>\n",
              "      <td>0.0</td>\n",
              "      <td>0</td>\n",
              "      <td>0</td>\n",
              "      <td>0</td>\n",
              "      <td>0</td>\n",
              "      <td>0</td>\n",
              "      <td>0.0</td>\n",
              "      <td>0.0</td>\n",
              "      <td>0.0</td>\n",
              "      <td>0</td>\n",
              "      <td>0</td>\n",
              "      <td>0</td>\n",
              "      <td>0</td>\n",
              "      <td>0.0</td>\n",
              "      <td>0</td>\n",
              "      <td>0.0</td>\n",
              "      <td>0</td>\n",
              "      <td>0</td>\n",
              "      <td>0.0</td>\n",
              "      <td>0</td>\n",
              "      <td>0</td>\n",
              "      <td>0.0</td>\n",
              "      <td>0</td>\n",
              "      <td>0</td>\n",
              "      <td>0</td>\n",
              "      <td>0.0</td>\n",
              "      <td>0</td>\n",
              "      <td>0.0</td>\n",
              "      <td>0</td>\n",
              "      <td>0.0</td>\n",
              "      <td>0.0</td>\n",
              "      <td>0</td>\n",
              "      <td>0.0</td>\n",
              "      <td>0</td>\n",
              "      <td>0</td>\n",
              "      <td>0.0</td>\n",
              "      <td>...</td>\n",
              "      <td>0</td>\n",
              "      <td>0</td>\n",
              "      <td>0.0</td>\n",
              "      <td>0</td>\n",
              "      <td>0</td>\n",
              "      <td>0</td>\n",
              "      <td>0.0</td>\n",
              "      <td>0.0</td>\n",
              "      <td>0</td>\n",
              "      <td>0.0</td>\n",
              "      <td>0.0</td>\n",
              "      <td>0.0</td>\n",
              "      <td>0.0</td>\n",
              "      <td>0</td>\n",
              "      <td>0</td>\n",
              "      <td>0</td>\n",
              "      <td>0</td>\n",
              "      <td>0.0</td>\n",
              "      <td>0</td>\n",
              "      <td>0</td>\n",
              "      <td>0.0</td>\n",
              "      <td>0</td>\n",
              "      <td>0</td>\n",
              "      <td>0.0</td>\n",
              "      <td>0</td>\n",
              "      <td>0</td>\n",
              "      <td>0.0</td>\n",
              "      <td>0</td>\n",
              "      <td>0</td>\n",
              "      <td>0.0</td>\n",
              "      <td>0.0</td>\n",
              "      <td>0.0</td>\n",
              "      <td>0.0</td>\n",
              "      <td>0</td>\n",
              "      <td>0</td>\n",
              "      <td>0</td>\n",
              "      <td>0</td>\n",
              "      <td>0</td>\n",
              "      <td>0</td>\n",
              "      <td>0</td>\n",
              "    </tr>\n",
              "    <tr>\n",
              "      <th>4</th>\n",
              "      <td>002a68644</td>\n",
              "      <td>14400000.0</td>\n",
              "      <td>0.0</td>\n",
              "      <td>0</td>\n",
              "      <td>0.0</td>\n",
              "      <td>0</td>\n",
              "      <td>0</td>\n",
              "      <td>0</td>\n",
              "      <td>0</td>\n",
              "      <td>0</td>\n",
              "      <td>2000000.0</td>\n",
              "      <td>0.0</td>\n",
              "      <td>0.0</td>\n",
              "      <td>0</td>\n",
              "      <td>0</td>\n",
              "      <td>0</td>\n",
              "      <td>0</td>\n",
              "      <td>0.0</td>\n",
              "      <td>0</td>\n",
              "      <td>0.0</td>\n",
              "      <td>0</td>\n",
              "      <td>0</td>\n",
              "      <td>0.0</td>\n",
              "      <td>0</td>\n",
              "      <td>0</td>\n",
              "      <td>0.0</td>\n",
              "      <td>0</td>\n",
              "      <td>0</td>\n",
              "      <td>0</td>\n",
              "      <td>0.0</td>\n",
              "      <td>0</td>\n",
              "      <td>0.0</td>\n",
              "      <td>0</td>\n",
              "      <td>0.0</td>\n",
              "      <td>0.0</td>\n",
              "      <td>0</td>\n",
              "      <td>0.0</td>\n",
              "      <td>0</td>\n",
              "      <td>0</td>\n",
              "      <td>0.0</td>\n",
              "      <td>...</td>\n",
              "      <td>0</td>\n",
              "      <td>0</td>\n",
              "      <td>0.0</td>\n",
              "      <td>0</td>\n",
              "      <td>0</td>\n",
              "      <td>0</td>\n",
              "      <td>0.0</td>\n",
              "      <td>0.0</td>\n",
              "      <td>0</td>\n",
              "      <td>0.0</td>\n",
              "      <td>0.0</td>\n",
              "      <td>0.0</td>\n",
              "      <td>0.0</td>\n",
              "      <td>0</td>\n",
              "      <td>0</td>\n",
              "      <td>0</td>\n",
              "      <td>0</td>\n",
              "      <td>0.0</td>\n",
              "      <td>0</td>\n",
              "      <td>0</td>\n",
              "      <td>0.0</td>\n",
              "      <td>0</td>\n",
              "      <td>0</td>\n",
              "      <td>0.0</td>\n",
              "      <td>0</td>\n",
              "      <td>0</td>\n",
              "      <td>0.0</td>\n",
              "      <td>0</td>\n",
              "      <td>0</td>\n",
              "      <td>0.0</td>\n",
              "      <td>0.0</td>\n",
              "      <td>0.0</td>\n",
              "      <td>0.0</td>\n",
              "      <td>0</td>\n",
              "      <td>0</td>\n",
              "      <td>0</td>\n",
              "      <td>0</td>\n",
              "      <td>0</td>\n",
              "      <td>0</td>\n",
              "      <td>0</td>\n",
              "    </tr>\n",
              "  </tbody>\n",
              "</table>\n",
              "<p>5 rows × 4993 columns</p>\n",
              "</div>\n",
              "      <button class=\"colab-df-convert\" onclick=\"convertToInteractive('df-f969ecca-e0c6-49af-9137-ed2661349623')\"\n",
              "              title=\"Convert this dataframe to an interactive table.\"\n",
              "              style=\"display:none;\">\n",
              "        \n",
              "  <svg xmlns=\"http://www.w3.org/2000/svg\" height=\"24px\"viewBox=\"0 0 24 24\"\n",
              "       width=\"24px\">\n",
              "    <path d=\"M0 0h24v24H0V0z\" fill=\"none\"/>\n",
              "    <path d=\"M18.56 5.44l.94 2.06.94-2.06 2.06-.94-2.06-.94-.94-2.06-.94 2.06-2.06.94zm-11 1L8.5 8.5l.94-2.06 2.06-.94-2.06-.94L8.5 2.5l-.94 2.06-2.06.94zm10 10l.94 2.06.94-2.06 2.06-.94-2.06-.94-.94-2.06-.94 2.06-2.06.94z\"/><path d=\"M17.41 7.96l-1.37-1.37c-.4-.4-.92-.59-1.43-.59-.52 0-1.04.2-1.43.59L10.3 9.45l-7.72 7.72c-.78.78-.78 2.05 0 2.83L4 21.41c.39.39.9.59 1.41.59.51 0 1.02-.2 1.41-.59l7.78-7.78 2.81-2.81c.8-.78.8-2.07 0-2.86zM5.41 20L4 18.59l7.72-7.72 1.47 1.35L5.41 20z\"/>\n",
              "  </svg>\n",
              "      </button>\n",
              "      \n",
              "  <style>\n",
              "    .colab-df-container {\n",
              "      display:flex;\n",
              "      flex-wrap:wrap;\n",
              "      gap: 12px;\n",
              "    }\n",
              "\n",
              "    .colab-df-convert {\n",
              "      background-color: #E8F0FE;\n",
              "      border: none;\n",
              "      border-radius: 50%;\n",
              "      cursor: pointer;\n",
              "      display: none;\n",
              "      fill: #1967D2;\n",
              "      height: 32px;\n",
              "      padding: 0 0 0 0;\n",
              "      width: 32px;\n",
              "    }\n",
              "\n",
              "    .colab-df-convert:hover {\n",
              "      background-color: #E2EBFA;\n",
              "      box-shadow: 0px 1px 2px rgba(60, 64, 67, 0.3), 0px 1px 3px 1px rgba(60, 64, 67, 0.15);\n",
              "      fill: #174EA6;\n",
              "    }\n",
              "\n",
              "    [theme=dark] .colab-df-convert {\n",
              "      background-color: #3B4455;\n",
              "      fill: #D2E3FC;\n",
              "    }\n",
              "\n",
              "    [theme=dark] .colab-df-convert:hover {\n",
              "      background-color: #434B5C;\n",
              "      box-shadow: 0px 1px 3px 1px rgba(0, 0, 0, 0.15);\n",
              "      filter: drop-shadow(0px 1px 2px rgba(0, 0, 0, 0.3));\n",
              "      fill: #FFFFFF;\n",
              "    }\n",
              "  </style>\n",
              "\n",
              "      <script>\n",
              "        const buttonEl =\n",
              "          document.querySelector('#df-f969ecca-e0c6-49af-9137-ed2661349623 button.colab-df-convert');\n",
              "        buttonEl.style.display =\n",
              "          google.colab.kernel.accessAllowed ? 'block' : 'none';\n",
              "\n",
              "        async function convertToInteractive(key) {\n",
              "          const element = document.querySelector('#df-f969ecca-e0c6-49af-9137-ed2661349623');\n",
              "          const dataTable =\n",
              "            await google.colab.kernel.invokeFunction('convertToInteractive',\n",
              "                                                     [key], {});\n",
              "          if (!dataTable) return;\n",
              "\n",
              "          const docLinkHtml = 'Like what you see? Visit the ' +\n",
              "            '<a target=\"_blank\" href=https://colab.research.google.com/notebooks/data_table.ipynb>data table notebook</a>'\n",
              "            + ' to learn more about interactive tables.';\n",
              "          element.innerHTML = '';\n",
              "          dataTable['output_type'] = 'display_data';\n",
              "          await google.colab.output.renderOutput(dataTable, element);\n",
              "          const docLink = document.createElement('div');\n",
              "          docLink.innerHTML = docLinkHtml;\n",
              "          element.appendChild(docLink);\n",
              "        }\n",
              "      </script>\n",
              "    </div>\n",
              "  </div>\n",
              "  "
            ],
            "text/plain": [
              "          ID      target  48df886f9  ...  fb36b89d9  7e293fbaf  9fc776466\n",
              "0  000d6aaf2  38000000.0        0.0  ...          0          0          0\n",
              "1  000fbd867    600000.0        0.0  ...          0          0          0\n",
              "2  0027d6b71  10000000.0        0.0  ...          0          0          0\n",
              "3  0028cbf45   2000000.0        0.0  ...          0          0          0\n",
              "4  002a68644  14400000.0        0.0  ...          0          0          0\n",
              "\n",
              "[5 rows x 4993 columns]"
            ]
          },
          "metadata": {},
          "execution_count": 3
        }
      ]
    },
    {
      "cell_type": "markdown",
      "source": [
        "#3. Exploração dos Dados(EDA)"
      ],
      "metadata": {
        "id": "gSe5v7B_BH2E"
      }
    },
    {
      "cell_type": "code",
      "source": [
        "print('*****Informações importantes sobre os dados******')\n",
        "print('')\n",
        "print(f'Variaveis: {df.shape[1]}')\n",
        "print(f'Entrada: {df.shape[0]}')\n",
        "print(f'Soma de dados ausentes: {df.isnull().sum().sum()}')\n",
        "print('')\n",
        "print('Tipo dos dados:')\n",
        "display(df.dtypes)"
      ],
      "metadata": {
        "colab": {
          "base_uri": "https://localhost:8080/",
          "height": 347
        },
        "id": "WJiYBvD8BVXW",
        "outputId": "0da332f8-1fc1-495a-95f0-7f764f89416e"
      },
      "execution_count": null,
      "outputs": [
        {
          "output_type": "stream",
          "name": "stdout",
          "text": [
            "*****Informações importantes sobre os dados******\n",
            "\n",
            "Variaveis: 4993\n",
            "Entrada: 4459\n",
            "Soma de dados ausentes: 0\n",
            "\n",
            "Tipo dos dados:\n"
          ]
        },
        {
          "output_type": "display_data",
          "data": {
            "text/plain": [
              "ID            object\n",
              "target       float64\n",
              "48df886f9    float64\n",
              "0deb4b6a8      int64\n",
              "34b15f335    float64\n",
              "              ...   \n",
              "71b203550      int64\n",
              "137efaa80      int64\n",
              "fb36b89d9      int64\n",
              "7e293fbaf      int64\n",
              "9fc776466      int64\n",
              "Length: 4993, dtype: object"
            ]
          },
          "metadata": {}
        }
      ]
    },
    {
      "cell_type": "code",
      "source": [
        "df.describe(percentiles=[.1, .25,.5,.75,.9])"
      ],
      "metadata": {
        "colab": {
          "base_uri": "https://localhost:8080/",
          "height": 456
        },
        "id": "COhbpaF4-y3_",
        "outputId": "d18a5410-e180-4b30-db40-5bef09a4027e"
      },
      "execution_count": null,
      "outputs": [
        {
          "output_type": "execute_result",
          "data": {
            "text/html": [
              "\n",
              "  <div id=\"df-a2899baa-18d2-4586-9cab-41b5c851a30e\">\n",
              "    <div class=\"colab-df-container\">\n",
              "      <div>\n",
              "<style scoped>\n",
              "    .dataframe tbody tr th:only-of-type {\n",
              "        vertical-align: middle;\n",
              "    }\n",
              "\n",
              "    .dataframe tbody tr th {\n",
              "        vertical-align: top;\n",
              "    }\n",
              "\n",
              "    .dataframe thead th {\n",
              "        text-align: right;\n",
              "    }\n",
              "</style>\n",
              "<table border=\"1\" class=\"dataframe\">\n",
              "  <thead>\n",
              "    <tr style=\"text-align: right;\">\n",
              "      <th></th>\n",
              "      <th>target</th>\n",
              "      <th>48df886f9</th>\n",
              "      <th>0deb4b6a8</th>\n",
              "      <th>34b15f335</th>\n",
              "      <th>a8cb14b00</th>\n",
              "      <th>2f0771a37</th>\n",
              "      <th>30347e683</th>\n",
              "      <th>d08d1fbe3</th>\n",
              "      <th>6ee66e115</th>\n",
              "      <th>20aa07010</th>\n",
              "      <th>dc5a8f1d8</th>\n",
              "      <th>11d86fa6a</th>\n",
              "      <th>77c9823f2</th>\n",
              "      <th>8d6c2a0b2</th>\n",
              "      <th>4681de4fd</th>\n",
              "      <th>adf119b9a</th>\n",
              "      <th>cff75dd09</th>\n",
              "      <th>96f83a237</th>\n",
              "      <th>b8a716ebf</th>\n",
              "      <th>6c7a4567c</th>\n",
              "      <th>4fcfd2b4d</th>\n",
              "      <th>f3b9c0b95</th>\n",
              "      <th>71cebf11c</th>\n",
              "      <th>d966ac62c</th>\n",
              "      <th>68b647452</th>\n",
              "      <th>c88d108c9</th>\n",
              "      <th>ff7b471cd</th>\n",
              "      <th>d5308d8bc</th>\n",
              "      <th>0d866c3d7</th>\n",
              "      <th>bc3f77679</th>\n",
              "      <th>bd8f989f1</th>\n",
              "      <th>0eff5bf95</th>\n",
              "      <th>22ed6dba3</th>\n",
              "      <th>92b13ebba</th>\n",
              "      <th>c330f1a67</th>\n",
              "      <th>233c7c17c</th>\n",
              "      <th>2cb4d123e</th>\n",
              "      <th>eeac16933</th>\n",
              "      <th>87ffda550</th>\n",
              "      <th>822e49b95</th>\n",
              "      <th>...</th>\n",
              "      <th>969caa87a</th>\n",
              "      <th>00302fe51</th>\n",
              "      <th>1189ee335</th>\n",
              "      <th>ca04a07ca</th>\n",
              "      <th>f6f15ffa5</th>\n",
              "      <th>841704460</th>\n",
              "      <th>ea5ed6ff7</th>\n",
              "      <th>b1bb8eac3</th>\n",
              "      <th>8132d18b8</th>\n",
              "      <th>c24ea6548</th>\n",
              "      <th>cdfc2b069</th>\n",
              "      <th>2a879b4f7</th>\n",
              "      <th>6b119d8ce</th>\n",
              "      <th>98dea9e42</th>\n",
              "      <th>9f2471031</th>\n",
              "      <th>88458cb21</th>\n",
              "      <th>f40da20f4</th>\n",
              "      <th>7ad6b38bd</th>\n",
              "      <th>c901e7df1</th>\n",
              "      <th>8f55955dc</th>\n",
              "      <th>85dcc913d</th>\n",
              "      <th>5ca0b9b0c</th>\n",
              "      <th>eab8abf7a</th>\n",
              "      <th>8d8bffbae</th>\n",
              "      <th>2a1f6c7f9</th>\n",
              "      <th>9437d8b64</th>\n",
              "      <th>5831f4c76</th>\n",
              "      <th>2e84e09c5</th>\n",
              "      <th>d45fd5508</th>\n",
              "      <th>a165f5761</th>\n",
              "      <th>3ecc09859</th>\n",
              "      <th>9281abeea</th>\n",
              "      <th>8675bec0b</th>\n",
              "      <th>3a13ed79a</th>\n",
              "      <th>f677d4d13</th>\n",
              "      <th>71b203550</th>\n",
              "      <th>137efaa80</th>\n",
              "      <th>fb36b89d9</th>\n",
              "      <th>7e293fbaf</th>\n",
              "      <th>9fc776466</th>\n",
              "    </tr>\n",
              "  </thead>\n",
              "  <tbody>\n",
              "    <tr>\n",
              "      <th>count</th>\n",
              "      <td>4.459000e+03</td>\n",
              "      <td>4.459000e+03</td>\n",
              "      <td>4.459000e+03</td>\n",
              "      <td>4.459000e+03</td>\n",
              "      <td>4.459000e+03</td>\n",
              "      <td>4.459000e+03</td>\n",
              "      <td>4.459000e+03</td>\n",
              "      <td>4.459000e+03</td>\n",
              "      <td>4.459000e+03</td>\n",
              "      <td>4.459000e+03</td>\n",
              "      <td>4.459000e+03</td>\n",
              "      <td>4.459000e+03</td>\n",
              "      <td>4459.000000</td>\n",
              "      <td>4.459000e+03</td>\n",
              "      <td>4.459000e+03</td>\n",
              "      <td>4.459000e+03</td>\n",
              "      <td>4.459000e+03</td>\n",
              "      <td>4.459000e+03</td>\n",
              "      <td>4.459000e+03</td>\n",
              "      <td>4.459000e+03</td>\n",
              "      <td>4.459000e+03</td>\n",
              "      <td>4.459000e+03</td>\n",
              "      <td>4.459000e+03</td>\n",
              "      <td>4.459000e+03</td>\n",
              "      <td>4.459000e+03</td>\n",
              "      <td>4.459000e+03</td>\n",
              "      <td>4.459000e+03</td>\n",
              "      <td>4459.0</td>\n",
              "      <td>4.459000e+03</td>\n",
              "      <td>4.459000e+03</td>\n",
              "      <td>4.459000e+03</td>\n",
              "      <td>4.459000e+03</td>\n",
              "      <td>4.459000e+03</td>\n",
              "      <td>4.459000e+03</td>\n",
              "      <td>4459.0</td>\n",
              "      <td>4.459000e+03</td>\n",
              "      <td>4.459000e+03</td>\n",
              "      <td>4459.0</td>\n",
              "      <td>4.459000e+03</td>\n",
              "      <td>4.459000e+03</td>\n",
              "      <td>...</td>\n",
              "      <td>4.459000e+03</td>\n",
              "      <td>4.459000e+03</td>\n",
              "      <td>4.459000e+03</td>\n",
              "      <td>4.459000e+03</td>\n",
              "      <td>4459.000000</td>\n",
              "      <td>4.459000e+03</td>\n",
              "      <td>4.459000e+03</td>\n",
              "      <td>4.459000e+03</td>\n",
              "      <td>4.459000e+03</td>\n",
              "      <td>4.459000e+03</td>\n",
              "      <td>4.459000e+03</td>\n",
              "      <td>4.459000e+03</td>\n",
              "      <td>4.459000e+03</td>\n",
              "      <td>4.459000e+03</td>\n",
              "      <td>4.459000e+03</td>\n",
              "      <td>4.459000e+03</td>\n",
              "      <td>4.459000e+03</td>\n",
              "      <td>4.459000e+03</td>\n",
              "      <td>4.459000e+03</td>\n",
              "      <td>4.459000e+03</td>\n",
              "      <td>4.459000e+03</td>\n",
              "      <td>4.459000e+03</td>\n",
              "      <td>4.459000e+03</td>\n",
              "      <td>4.459000e+03</td>\n",
              "      <td>4.459000e+03</td>\n",
              "      <td>4.459000e+03</td>\n",
              "      <td>4.459000e+03</td>\n",
              "      <td>4.459000e+03</td>\n",
              "      <td>4.459000e+03</td>\n",
              "      <td>4.459000e+03</td>\n",
              "      <td>4.459000e+03</td>\n",
              "      <td>4.459000e+03</td>\n",
              "      <td>4.459000e+03</td>\n",
              "      <td>4.459000e+03</td>\n",
              "      <td>4459.000000</td>\n",
              "      <td>4.459000e+03</td>\n",
              "      <td>4.459000e+03</td>\n",
              "      <td>4.459000e+03</td>\n",
              "      <td>4.459000e+03</td>\n",
              "      <td>4.459000e+03</td>\n",
              "    </tr>\n",
              "    <tr>\n",
              "      <th>mean</th>\n",
              "      <td>5.944923e+06</td>\n",
              "      <td>1.465493e+04</td>\n",
              "      <td>1.390895e+03</td>\n",
              "      <td>2.672245e+04</td>\n",
              "      <td>4.530164e+03</td>\n",
              "      <td>2.640996e+04</td>\n",
              "      <td>3.070811e+04</td>\n",
              "      <td>1.686522e+04</td>\n",
              "      <td>4.669208e+03</td>\n",
              "      <td>2.569407e+06</td>\n",
              "      <td>1.552158e+05</td>\n",
              "      <td>1.950500e+05</td>\n",
              "      <td>8.522090</td>\n",
              "      <td>3.595874e+03</td>\n",
              "      <td>2.258015e+06</td>\n",
              "      <td>2.680843e+05</td>\n",
              "      <td>4.588255e+04</td>\n",
              "      <td>4.451478e+04</td>\n",
              "      <td>3.968961e+05</td>\n",
              "      <td>2.883129e+04</td>\n",
              "      <td>1.940794e+03</td>\n",
              "      <td>4.483841e+05</td>\n",
              "      <td>7.989729e+04</td>\n",
              "      <td>1.548394e+05</td>\n",
              "      <td>1.128254e+05</td>\n",
              "      <td>1.148329e+05</td>\n",
              "      <td>3.377439e+03</td>\n",
              "      <td>0.0</td>\n",
              "      <td>3.794130e+05</td>\n",
              "      <td>1.202247e+05</td>\n",
              "      <td>7.426464e+05</td>\n",
              "      <td>4.994842e+03</td>\n",
              "      <td>1.725258e+06</td>\n",
              "      <td>1.941882e+05</td>\n",
              "      <td>0.0</td>\n",
              "      <td>9.338327e+04</td>\n",
              "      <td>6.296896e+05</td>\n",
              "      <td>0.0</td>\n",
              "      <td>1.249545e+06</td>\n",
              "      <td>1.200042e+06</td>\n",
              "      <td>...</td>\n",
              "      <td>2.412200e+03</td>\n",
              "      <td>3.767589e+05</td>\n",
              "      <td>6.669478e+05</td>\n",
              "      <td>4.281949e+04</td>\n",
              "      <td>6.279435</td>\n",
              "      <td>1.409112e+05</td>\n",
              "      <td>2.364780e+05</td>\n",
              "      <td>7.627485e+05</td>\n",
              "      <td>6.752640e+05</td>\n",
              "      <td>5.428654e+05</td>\n",
              "      <td>7.776979e+05</td>\n",
              "      <td>1.004851e+05</td>\n",
              "      <td>3.825025e+05</td>\n",
              "      <td>2.539583e+03</td>\n",
              "      <td>3.767661e+03</td>\n",
              "      <td>4.153891e+04</td>\n",
              "      <td>7.041224e+04</td>\n",
              "      <td>9.648562e+04</td>\n",
              "      <td>9.751240e+05</td>\n",
              "      <td>2.910967e+04</td>\n",
              "      <td>7.599802e+04</td>\n",
              "      <td>3.588248e+03</td>\n",
              "      <td>1.796016e+05</td>\n",
              "      <td>5.302810e+05</td>\n",
              "      <td>2.377396e+05</td>\n",
              "      <td>1.183135e+06</td>\n",
              "      <td>1.247793e+06</td>\n",
              "      <td>9.867683e+02</td>\n",
              "      <td>6.165015e+04</td>\n",
              "      <td>1.289495e+05</td>\n",
              "      <td>4.676057e+05</td>\n",
              "      <td>4.446239e+05</td>\n",
              "      <td>8.056219e+05</td>\n",
              "      <td>7.812966e+05</td>\n",
              "      <td>143.529939</td>\n",
              "      <td>1.213809e+05</td>\n",
              "      <td>3.573451e+04</td>\n",
              "      <td>3.123741e+05</td>\n",
              "      <td>9.219960e+04</td>\n",
              "      <td>2.279100e+05</td>\n",
              "    </tr>\n",
              "    <tr>\n",
              "      <th>std</th>\n",
              "      <td>8.234312e+06</td>\n",
              "      <td>3.893298e+05</td>\n",
              "      <td>6.428302e+04</td>\n",
              "      <td>5.699652e+05</td>\n",
              "      <td>2.359124e+05</td>\n",
              "      <td>1.514730e+06</td>\n",
              "      <td>5.770590e+05</td>\n",
              "      <td>7.512756e+05</td>\n",
              "      <td>1.879449e+05</td>\n",
              "      <td>9.610183e+06</td>\n",
              "      <td>1.587815e+06</td>\n",
              "      <td>2.397372e+06</td>\n",
              "      <td>569.068911</td>\n",
              "      <td>1.245435e+05</td>\n",
              "      <td>1.552298e+07</td>\n",
              "      <td>3.026910e+06</td>\n",
              "      <td>8.140674e+05</td>\n",
              "      <td>1.354504e+06</td>\n",
              "      <td>3.238243e+06</td>\n",
              "      <td>5.705388e+05</td>\n",
              "      <td>2.786022e+04</td>\n",
              "      <td>6.370644e+06</td>\n",
              "      <td>2.846440e+06</td>\n",
              "      <td>2.425794e+06</td>\n",
              "      <td>1.161275e+06</td>\n",
              "      <td>2.747535e+06</td>\n",
              "      <td>1.313839e+05</td>\n",
              "      <td>0.0</td>\n",
              "      <td>3.561409e+06</td>\n",
              "      <td>4.867503e+06</td>\n",
              "      <td>3.799941e+06</td>\n",
              "      <td>1.868664e+05</td>\n",
              "      <td>9.034308e+06</td>\n",
              "      <td>1.481349e+06</td>\n",
              "      <td>0.0</td>\n",
              "      <td>8.547764e+05</td>\n",
              "      <td>6.956380e+06</td>\n",
              "      <td>0.0</td>\n",
              "      <td>7.361173e+06</td>\n",
              "      <td>8.113234e+06</td>\n",
              "      <td>...</td>\n",
              "      <td>1.498586e+05</td>\n",
              "      <td>7.755051e+06</td>\n",
              "      <td>6.261373e+06</td>\n",
              "      <td>5.473370e+05</td>\n",
              "      <td>322.557139</td>\n",
              "      <td>2.052878e+06</td>\n",
              "      <td>1.533062e+06</td>\n",
              "      <td>5.816722e+06</td>\n",
              "      <td>7.444468e+06</td>\n",
              "      <td>4.250172e+06</td>\n",
              "      <td>4.287643e+06</td>\n",
              "      <td>9.150068e+05</td>\n",
              "      <td>2.799848e+06</td>\n",
              "      <td>1.508683e+05</td>\n",
              "      <td>2.515884e+05</td>\n",
              "      <td>1.179500e+06</td>\n",
              "      <td>2.810830e+06</td>\n",
              "      <td>1.114863e+06</td>\n",
              "      <td>9.750283e+06</td>\n",
              "      <td>7.912064e+05</td>\n",
              "      <td>1.206581e+06</td>\n",
              "      <td>2.396080e+05</td>\n",
              "      <td>1.660884e+06</td>\n",
              "      <td>4.497567e+06</td>\n",
              "      <td>4.109065e+06</td>\n",
              "      <td>1.139493e+07</td>\n",
              "      <td>6.878895e+06</td>\n",
              "      <td>6.589219e+04</td>\n",
              "      <td>2.124731e+06</td>\n",
              "      <td>1.335938e+06</td>\n",
              "      <td>4.068038e+06</td>\n",
              "      <td>4.428889e+06</td>\n",
              "      <td>4.513246e+06</td>\n",
              "      <td>6.839451e+06</td>\n",
              "      <td>9584.318507</td>\n",
              "      <td>4.720709e+06</td>\n",
              "      <td>1.614622e+06</td>\n",
              "      <td>4.318501e+06</td>\n",
              "      <td>1.635993e+06</td>\n",
              "      <td>1.811139e+06</td>\n",
              "    </tr>\n",
              "    <tr>\n",
              "      <th>min</th>\n",
              "      <td>3.000000e+04</td>\n",
              "      <td>0.000000e+00</td>\n",
              "      <td>0.000000e+00</td>\n",
              "      <td>0.000000e+00</td>\n",
              "      <td>0.000000e+00</td>\n",
              "      <td>0.000000e+00</td>\n",
              "      <td>0.000000e+00</td>\n",
              "      <td>0.000000e+00</td>\n",
              "      <td>0.000000e+00</td>\n",
              "      <td>0.000000e+00</td>\n",
              "      <td>0.000000e+00</td>\n",
              "      <td>0.000000e+00</td>\n",
              "      <td>0.000000</td>\n",
              "      <td>0.000000e+00</td>\n",
              "      <td>0.000000e+00</td>\n",
              "      <td>0.000000e+00</td>\n",
              "      <td>0.000000e+00</td>\n",
              "      <td>0.000000e+00</td>\n",
              "      <td>0.000000e+00</td>\n",
              "      <td>0.000000e+00</td>\n",
              "      <td>0.000000e+00</td>\n",
              "      <td>0.000000e+00</td>\n",
              "      <td>0.000000e+00</td>\n",
              "      <td>0.000000e+00</td>\n",
              "      <td>0.000000e+00</td>\n",
              "      <td>0.000000e+00</td>\n",
              "      <td>0.000000e+00</td>\n",
              "      <td>0.0</td>\n",
              "      <td>0.000000e+00</td>\n",
              "      <td>0.000000e+00</td>\n",
              "      <td>0.000000e+00</td>\n",
              "      <td>0.000000e+00</td>\n",
              "      <td>0.000000e+00</td>\n",
              "      <td>0.000000e+00</td>\n",
              "      <td>0.0</td>\n",
              "      <td>0.000000e+00</td>\n",
              "      <td>0.000000e+00</td>\n",
              "      <td>0.0</td>\n",
              "      <td>0.000000e+00</td>\n",
              "      <td>0.000000e+00</td>\n",
              "      <td>...</td>\n",
              "      <td>0.000000e+00</td>\n",
              "      <td>0.000000e+00</td>\n",
              "      <td>0.000000e+00</td>\n",
              "      <td>0.000000e+00</td>\n",
              "      <td>0.000000</td>\n",
              "      <td>0.000000e+00</td>\n",
              "      <td>0.000000e+00</td>\n",
              "      <td>0.000000e+00</td>\n",
              "      <td>0.000000e+00</td>\n",
              "      <td>0.000000e+00</td>\n",
              "      <td>0.000000e+00</td>\n",
              "      <td>0.000000e+00</td>\n",
              "      <td>0.000000e+00</td>\n",
              "      <td>0.000000e+00</td>\n",
              "      <td>0.000000e+00</td>\n",
              "      <td>0.000000e+00</td>\n",
              "      <td>0.000000e+00</td>\n",
              "      <td>0.000000e+00</td>\n",
              "      <td>0.000000e+00</td>\n",
              "      <td>0.000000e+00</td>\n",
              "      <td>0.000000e+00</td>\n",
              "      <td>0.000000e+00</td>\n",
              "      <td>0.000000e+00</td>\n",
              "      <td>0.000000e+00</td>\n",
              "      <td>0.000000e+00</td>\n",
              "      <td>0.000000e+00</td>\n",
              "      <td>0.000000e+00</td>\n",
              "      <td>0.000000e+00</td>\n",
              "      <td>0.000000e+00</td>\n",
              "      <td>0.000000e+00</td>\n",
              "      <td>0.000000e+00</td>\n",
              "      <td>0.000000e+00</td>\n",
              "      <td>0.000000e+00</td>\n",
              "      <td>0.000000e+00</td>\n",
              "      <td>0.000000</td>\n",
              "      <td>0.000000e+00</td>\n",
              "      <td>0.000000e+00</td>\n",
              "      <td>0.000000e+00</td>\n",
              "      <td>0.000000e+00</td>\n",
              "      <td>0.000000e+00</td>\n",
              "    </tr>\n",
              "    <tr>\n",
              "      <th>10%</th>\n",
              "      <td>1.595556e+05</td>\n",
              "      <td>0.000000e+00</td>\n",
              "      <td>0.000000e+00</td>\n",
              "      <td>0.000000e+00</td>\n",
              "      <td>0.000000e+00</td>\n",
              "      <td>0.000000e+00</td>\n",
              "      <td>0.000000e+00</td>\n",
              "      <td>0.000000e+00</td>\n",
              "      <td>0.000000e+00</td>\n",
              "      <td>0.000000e+00</td>\n",
              "      <td>0.000000e+00</td>\n",
              "      <td>0.000000e+00</td>\n",
              "      <td>0.000000</td>\n",
              "      <td>0.000000e+00</td>\n",
              "      <td>0.000000e+00</td>\n",
              "      <td>0.000000e+00</td>\n",
              "      <td>0.000000e+00</td>\n",
              "      <td>0.000000e+00</td>\n",
              "      <td>0.000000e+00</td>\n",
              "      <td>0.000000e+00</td>\n",
              "      <td>0.000000e+00</td>\n",
              "      <td>0.000000e+00</td>\n",
              "      <td>0.000000e+00</td>\n",
              "      <td>0.000000e+00</td>\n",
              "      <td>0.000000e+00</td>\n",
              "      <td>0.000000e+00</td>\n",
              "      <td>0.000000e+00</td>\n",
              "      <td>0.0</td>\n",
              "      <td>0.000000e+00</td>\n",
              "      <td>0.000000e+00</td>\n",
              "      <td>0.000000e+00</td>\n",
              "      <td>0.000000e+00</td>\n",
              "      <td>0.000000e+00</td>\n",
              "      <td>0.000000e+00</td>\n",
              "      <td>0.0</td>\n",
              "      <td>0.000000e+00</td>\n",
              "      <td>0.000000e+00</td>\n",
              "      <td>0.0</td>\n",
              "      <td>0.000000e+00</td>\n",
              "      <td>0.000000e+00</td>\n",
              "      <td>...</td>\n",
              "      <td>0.000000e+00</td>\n",
              "      <td>0.000000e+00</td>\n",
              "      <td>0.000000e+00</td>\n",
              "      <td>0.000000e+00</td>\n",
              "      <td>0.000000</td>\n",
              "      <td>0.000000e+00</td>\n",
              "      <td>0.000000e+00</td>\n",
              "      <td>0.000000e+00</td>\n",
              "      <td>0.000000e+00</td>\n",
              "      <td>0.000000e+00</td>\n",
              "      <td>0.000000e+00</td>\n",
              "      <td>0.000000e+00</td>\n",
              "      <td>0.000000e+00</td>\n",
              "      <td>0.000000e+00</td>\n",
              "      <td>0.000000e+00</td>\n",
              "      <td>0.000000e+00</td>\n",
              "      <td>0.000000e+00</td>\n",
              "      <td>0.000000e+00</td>\n",
              "      <td>0.000000e+00</td>\n",
              "      <td>0.000000e+00</td>\n",
              "      <td>0.000000e+00</td>\n",
              "      <td>0.000000e+00</td>\n",
              "      <td>0.000000e+00</td>\n",
              "      <td>0.000000e+00</td>\n",
              "      <td>0.000000e+00</td>\n",
              "      <td>0.000000e+00</td>\n",
              "      <td>0.000000e+00</td>\n",
              "      <td>0.000000e+00</td>\n",
              "      <td>0.000000e+00</td>\n",
              "      <td>0.000000e+00</td>\n",
              "      <td>0.000000e+00</td>\n",
              "      <td>0.000000e+00</td>\n",
              "      <td>0.000000e+00</td>\n",
              "      <td>0.000000e+00</td>\n",
              "      <td>0.000000</td>\n",
              "      <td>0.000000e+00</td>\n",
              "      <td>0.000000e+00</td>\n",
              "      <td>0.000000e+00</td>\n",
              "      <td>0.000000e+00</td>\n",
              "      <td>0.000000e+00</td>\n",
              "    </tr>\n",
              "    <tr>\n",
              "      <th>25%</th>\n",
              "      <td>6.000000e+05</td>\n",
              "      <td>0.000000e+00</td>\n",
              "      <td>0.000000e+00</td>\n",
              "      <td>0.000000e+00</td>\n",
              "      <td>0.000000e+00</td>\n",
              "      <td>0.000000e+00</td>\n",
              "      <td>0.000000e+00</td>\n",
              "      <td>0.000000e+00</td>\n",
              "      <td>0.000000e+00</td>\n",
              "      <td>0.000000e+00</td>\n",
              "      <td>0.000000e+00</td>\n",
              "      <td>0.000000e+00</td>\n",
              "      <td>0.000000</td>\n",
              "      <td>0.000000e+00</td>\n",
              "      <td>0.000000e+00</td>\n",
              "      <td>0.000000e+00</td>\n",
              "      <td>0.000000e+00</td>\n",
              "      <td>0.000000e+00</td>\n",
              "      <td>0.000000e+00</td>\n",
              "      <td>0.000000e+00</td>\n",
              "      <td>0.000000e+00</td>\n",
              "      <td>0.000000e+00</td>\n",
              "      <td>0.000000e+00</td>\n",
              "      <td>0.000000e+00</td>\n",
              "      <td>0.000000e+00</td>\n",
              "      <td>0.000000e+00</td>\n",
              "      <td>0.000000e+00</td>\n",
              "      <td>0.0</td>\n",
              "      <td>0.000000e+00</td>\n",
              "      <td>0.000000e+00</td>\n",
              "      <td>0.000000e+00</td>\n",
              "      <td>0.000000e+00</td>\n",
              "      <td>0.000000e+00</td>\n",
              "      <td>0.000000e+00</td>\n",
              "      <td>0.0</td>\n",
              "      <td>0.000000e+00</td>\n",
              "      <td>0.000000e+00</td>\n",
              "      <td>0.0</td>\n",
              "      <td>0.000000e+00</td>\n",
              "      <td>0.000000e+00</td>\n",
              "      <td>...</td>\n",
              "      <td>0.000000e+00</td>\n",
              "      <td>0.000000e+00</td>\n",
              "      <td>0.000000e+00</td>\n",
              "      <td>0.000000e+00</td>\n",
              "      <td>0.000000</td>\n",
              "      <td>0.000000e+00</td>\n",
              "      <td>0.000000e+00</td>\n",
              "      <td>0.000000e+00</td>\n",
              "      <td>0.000000e+00</td>\n",
              "      <td>0.000000e+00</td>\n",
              "      <td>0.000000e+00</td>\n",
              "      <td>0.000000e+00</td>\n",
              "      <td>0.000000e+00</td>\n",
              "      <td>0.000000e+00</td>\n",
              "      <td>0.000000e+00</td>\n",
              "      <td>0.000000e+00</td>\n",
              "      <td>0.000000e+00</td>\n",
              "      <td>0.000000e+00</td>\n",
              "      <td>0.000000e+00</td>\n",
              "      <td>0.000000e+00</td>\n",
              "      <td>0.000000e+00</td>\n",
              "      <td>0.000000e+00</td>\n",
              "      <td>0.000000e+00</td>\n",
              "      <td>0.000000e+00</td>\n",
              "      <td>0.000000e+00</td>\n",
              "      <td>0.000000e+00</td>\n",
              "      <td>0.000000e+00</td>\n",
              "      <td>0.000000e+00</td>\n",
              "      <td>0.000000e+00</td>\n",
              "      <td>0.000000e+00</td>\n",
              "      <td>0.000000e+00</td>\n",
              "      <td>0.000000e+00</td>\n",
              "      <td>0.000000e+00</td>\n",
              "      <td>0.000000e+00</td>\n",
              "      <td>0.000000</td>\n",
              "      <td>0.000000e+00</td>\n",
              "      <td>0.000000e+00</td>\n",
              "      <td>0.000000e+00</td>\n",
              "      <td>0.000000e+00</td>\n",
              "      <td>0.000000e+00</td>\n",
              "    </tr>\n",
              "    <tr>\n",
              "      <th>50%</th>\n",
              "      <td>2.260000e+06</td>\n",
              "      <td>0.000000e+00</td>\n",
              "      <td>0.000000e+00</td>\n",
              "      <td>0.000000e+00</td>\n",
              "      <td>0.000000e+00</td>\n",
              "      <td>0.000000e+00</td>\n",
              "      <td>0.000000e+00</td>\n",
              "      <td>0.000000e+00</td>\n",
              "      <td>0.000000e+00</td>\n",
              "      <td>0.000000e+00</td>\n",
              "      <td>0.000000e+00</td>\n",
              "      <td>0.000000e+00</td>\n",
              "      <td>0.000000</td>\n",
              "      <td>0.000000e+00</td>\n",
              "      <td>0.000000e+00</td>\n",
              "      <td>0.000000e+00</td>\n",
              "      <td>0.000000e+00</td>\n",
              "      <td>0.000000e+00</td>\n",
              "      <td>0.000000e+00</td>\n",
              "      <td>0.000000e+00</td>\n",
              "      <td>0.000000e+00</td>\n",
              "      <td>0.000000e+00</td>\n",
              "      <td>0.000000e+00</td>\n",
              "      <td>0.000000e+00</td>\n",
              "      <td>0.000000e+00</td>\n",
              "      <td>0.000000e+00</td>\n",
              "      <td>0.000000e+00</td>\n",
              "      <td>0.0</td>\n",
              "      <td>0.000000e+00</td>\n",
              "      <td>0.000000e+00</td>\n",
              "      <td>0.000000e+00</td>\n",
              "      <td>0.000000e+00</td>\n",
              "      <td>0.000000e+00</td>\n",
              "      <td>0.000000e+00</td>\n",
              "      <td>0.0</td>\n",
              "      <td>0.000000e+00</td>\n",
              "      <td>0.000000e+00</td>\n",
              "      <td>0.0</td>\n",
              "      <td>0.000000e+00</td>\n",
              "      <td>0.000000e+00</td>\n",
              "      <td>...</td>\n",
              "      <td>0.000000e+00</td>\n",
              "      <td>0.000000e+00</td>\n",
              "      <td>0.000000e+00</td>\n",
              "      <td>0.000000e+00</td>\n",
              "      <td>0.000000</td>\n",
              "      <td>0.000000e+00</td>\n",
              "      <td>0.000000e+00</td>\n",
              "      <td>0.000000e+00</td>\n",
              "      <td>0.000000e+00</td>\n",
              "      <td>0.000000e+00</td>\n",
              "      <td>0.000000e+00</td>\n",
              "      <td>0.000000e+00</td>\n",
              "      <td>0.000000e+00</td>\n",
              "      <td>0.000000e+00</td>\n",
              "      <td>0.000000e+00</td>\n",
              "      <td>0.000000e+00</td>\n",
              "      <td>0.000000e+00</td>\n",
              "      <td>0.000000e+00</td>\n",
              "      <td>0.000000e+00</td>\n",
              "      <td>0.000000e+00</td>\n",
              "      <td>0.000000e+00</td>\n",
              "      <td>0.000000e+00</td>\n",
              "      <td>0.000000e+00</td>\n",
              "      <td>0.000000e+00</td>\n",
              "      <td>0.000000e+00</td>\n",
              "      <td>0.000000e+00</td>\n",
              "      <td>0.000000e+00</td>\n",
              "      <td>0.000000e+00</td>\n",
              "      <td>0.000000e+00</td>\n",
              "      <td>0.000000e+00</td>\n",
              "      <td>0.000000e+00</td>\n",
              "      <td>0.000000e+00</td>\n",
              "      <td>0.000000e+00</td>\n",
              "      <td>0.000000e+00</td>\n",
              "      <td>0.000000</td>\n",
              "      <td>0.000000e+00</td>\n",
              "      <td>0.000000e+00</td>\n",
              "      <td>0.000000e+00</td>\n",
              "      <td>0.000000e+00</td>\n",
              "      <td>0.000000e+00</td>\n",
              "    </tr>\n",
              "    <tr>\n",
              "      <th>75%</th>\n",
              "      <td>8.000000e+06</td>\n",
              "      <td>0.000000e+00</td>\n",
              "      <td>0.000000e+00</td>\n",
              "      <td>0.000000e+00</td>\n",
              "      <td>0.000000e+00</td>\n",
              "      <td>0.000000e+00</td>\n",
              "      <td>0.000000e+00</td>\n",
              "      <td>0.000000e+00</td>\n",
              "      <td>0.000000e+00</td>\n",
              "      <td>6.000000e+05</td>\n",
              "      <td>0.000000e+00</td>\n",
              "      <td>0.000000e+00</td>\n",
              "      <td>0.000000</td>\n",
              "      <td>0.000000e+00</td>\n",
              "      <td>0.000000e+00</td>\n",
              "      <td>0.000000e+00</td>\n",
              "      <td>0.000000e+00</td>\n",
              "      <td>0.000000e+00</td>\n",
              "      <td>0.000000e+00</td>\n",
              "      <td>0.000000e+00</td>\n",
              "      <td>0.000000e+00</td>\n",
              "      <td>0.000000e+00</td>\n",
              "      <td>0.000000e+00</td>\n",
              "      <td>0.000000e+00</td>\n",
              "      <td>0.000000e+00</td>\n",
              "      <td>0.000000e+00</td>\n",
              "      <td>0.000000e+00</td>\n",
              "      <td>0.0</td>\n",
              "      <td>0.000000e+00</td>\n",
              "      <td>0.000000e+00</td>\n",
              "      <td>0.000000e+00</td>\n",
              "      <td>0.000000e+00</td>\n",
              "      <td>0.000000e+00</td>\n",
              "      <td>0.000000e+00</td>\n",
              "      <td>0.0</td>\n",
              "      <td>0.000000e+00</td>\n",
              "      <td>0.000000e+00</td>\n",
              "      <td>0.0</td>\n",
              "      <td>0.000000e+00</td>\n",
              "      <td>0.000000e+00</td>\n",
              "      <td>...</td>\n",
              "      <td>0.000000e+00</td>\n",
              "      <td>0.000000e+00</td>\n",
              "      <td>0.000000e+00</td>\n",
              "      <td>0.000000e+00</td>\n",
              "      <td>0.000000</td>\n",
              "      <td>0.000000e+00</td>\n",
              "      <td>0.000000e+00</td>\n",
              "      <td>0.000000e+00</td>\n",
              "      <td>0.000000e+00</td>\n",
              "      <td>0.000000e+00</td>\n",
              "      <td>0.000000e+00</td>\n",
              "      <td>0.000000e+00</td>\n",
              "      <td>0.000000e+00</td>\n",
              "      <td>0.000000e+00</td>\n",
              "      <td>0.000000e+00</td>\n",
              "      <td>0.000000e+00</td>\n",
              "      <td>0.000000e+00</td>\n",
              "      <td>0.000000e+00</td>\n",
              "      <td>0.000000e+00</td>\n",
              "      <td>0.000000e+00</td>\n",
              "      <td>0.000000e+00</td>\n",
              "      <td>0.000000e+00</td>\n",
              "      <td>0.000000e+00</td>\n",
              "      <td>0.000000e+00</td>\n",
              "      <td>0.000000e+00</td>\n",
              "      <td>0.000000e+00</td>\n",
              "      <td>0.000000e+00</td>\n",
              "      <td>0.000000e+00</td>\n",
              "      <td>0.000000e+00</td>\n",
              "      <td>0.000000e+00</td>\n",
              "      <td>0.000000e+00</td>\n",
              "      <td>0.000000e+00</td>\n",
              "      <td>0.000000e+00</td>\n",
              "      <td>0.000000e+00</td>\n",
              "      <td>0.000000</td>\n",
              "      <td>0.000000e+00</td>\n",
              "      <td>0.000000e+00</td>\n",
              "      <td>0.000000e+00</td>\n",
              "      <td>0.000000e+00</td>\n",
              "      <td>0.000000e+00</td>\n",
              "    </tr>\n",
              "    <tr>\n",
              "      <th>90%</th>\n",
              "      <td>2.000000e+07</td>\n",
              "      <td>0.000000e+00</td>\n",
              "      <td>0.000000e+00</td>\n",
              "      <td>0.000000e+00</td>\n",
              "      <td>0.000000e+00</td>\n",
              "      <td>0.000000e+00</td>\n",
              "      <td>0.000000e+00</td>\n",
              "      <td>0.000000e+00</td>\n",
              "      <td>0.000000e+00</td>\n",
              "      <td>6.000000e+06</td>\n",
              "      <td>0.000000e+00</td>\n",
              "      <td>0.000000e+00</td>\n",
              "      <td>0.000000</td>\n",
              "      <td>0.000000e+00</td>\n",
              "      <td>3.600000e+05</td>\n",
              "      <td>0.000000e+00</td>\n",
              "      <td>0.000000e+00</td>\n",
              "      <td>0.000000e+00</td>\n",
              "      <td>0.000000e+00</td>\n",
              "      <td>0.000000e+00</td>\n",
              "      <td>0.000000e+00</td>\n",
              "      <td>0.000000e+00</td>\n",
              "      <td>0.000000e+00</td>\n",
              "      <td>0.000000e+00</td>\n",
              "      <td>0.000000e+00</td>\n",
              "      <td>0.000000e+00</td>\n",
              "      <td>0.000000e+00</td>\n",
              "      <td>0.0</td>\n",
              "      <td>0.000000e+00</td>\n",
              "      <td>0.000000e+00</td>\n",
              "      <td>3.126665e+05</td>\n",
              "      <td>0.000000e+00</td>\n",
              "      <td>1.271200e+06</td>\n",
              "      <td>0.000000e+00</td>\n",
              "      <td>0.0</td>\n",
              "      <td>0.000000e+00</td>\n",
              "      <td>0.000000e+00</td>\n",
              "      <td>0.0</td>\n",
              "      <td>1.400000e+06</td>\n",
              "      <td>8.000000e+05</td>\n",
              "      <td>...</td>\n",
              "      <td>0.000000e+00</td>\n",
              "      <td>0.000000e+00</td>\n",
              "      <td>0.000000e+00</td>\n",
              "      <td>0.000000e+00</td>\n",
              "      <td>0.000000</td>\n",
              "      <td>0.000000e+00</td>\n",
              "      <td>0.000000e+00</td>\n",
              "      <td>2.000000e+05</td>\n",
              "      <td>0.000000e+00</td>\n",
              "      <td>0.000000e+00</td>\n",
              "      <td>7.856000e+05</td>\n",
              "      <td>0.000000e+00</td>\n",
              "      <td>0.000000e+00</td>\n",
              "      <td>0.000000e+00</td>\n",
              "      <td>0.000000e+00</td>\n",
              "      <td>0.000000e+00</td>\n",
              "      <td>0.000000e+00</td>\n",
              "      <td>0.000000e+00</td>\n",
              "      <td>0.000000e+00</td>\n",
              "      <td>0.000000e+00</td>\n",
              "      <td>0.000000e+00</td>\n",
              "      <td>0.000000e+00</td>\n",
              "      <td>0.000000e+00</td>\n",
              "      <td>8.000000e+04</td>\n",
              "      <td>0.000000e+00</td>\n",
              "      <td>0.000000e+00</td>\n",
              "      <td>8.000000e+05</td>\n",
              "      <td>0.000000e+00</td>\n",
              "      <td>0.000000e+00</td>\n",
              "      <td>0.000000e+00</td>\n",
              "      <td>0.000000e+00</td>\n",
              "      <td>0.000000e+00</td>\n",
              "      <td>1.400000e+06</td>\n",
              "      <td>0.000000e+00</td>\n",
              "      <td>0.000000</td>\n",
              "      <td>0.000000e+00</td>\n",
              "      <td>0.000000e+00</td>\n",
              "      <td>0.000000e+00</td>\n",
              "      <td>0.000000e+00</td>\n",
              "      <td>0.000000e+00</td>\n",
              "    </tr>\n",
              "    <tr>\n",
              "      <th>max</th>\n",
              "      <td>4.000000e+07</td>\n",
              "      <td>2.000000e+07</td>\n",
              "      <td>4.000000e+06</td>\n",
              "      <td>2.000000e+07</td>\n",
              "      <td>1.480000e+07</td>\n",
              "      <td>1.000000e+08</td>\n",
              "      <td>2.070800e+07</td>\n",
              "      <td>4.000000e+07</td>\n",
              "      <td>1.040000e+07</td>\n",
              "      <td>3.196120e+08</td>\n",
              "      <td>6.000000e+07</td>\n",
              "      <td>1.000000e+08</td>\n",
              "      <td>38000.000000</td>\n",
              "      <td>6.000000e+06</td>\n",
              "      <td>3.560000e+08</td>\n",
              "      <td>6.600000e+07</td>\n",
              "      <td>3.111000e+07</td>\n",
              "      <td>7.960000e+07</td>\n",
              "      <td>1.000000e+08</td>\n",
              "      <td>2.173000e+07</td>\n",
              "      <td>1.100000e+06</td>\n",
              "      <td>2.000000e+08</td>\n",
              "      <td>1.536720e+08</td>\n",
              "      <td>6.000000e+07</td>\n",
              "      <td>3.720000e+07</td>\n",
              "      <td>1.000000e+08</td>\n",
              "      <td>6.000000e+06</td>\n",
              "      <td>0.0</td>\n",
              "      <td>7.600000e+07</td>\n",
              "      <td>3.167500e+08</td>\n",
              "      <td>7.000000e+07</td>\n",
              "      <td>1.000000e+07</td>\n",
              "      <td>1.500000e+08</td>\n",
              "      <td>6.000000e+07</td>\n",
              "      <td>0.0</td>\n",
              "      <td>2.500000e+07</td>\n",
              "      <td>3.023120e+08</td>\n",
              "      <td>0.0</td>\n",
              "      <td>3.338000e+08</td>\n",
              "      <td>3.196120e+08</td>\n",
              "      <td>...</td>\n",
              "      <td>1.000000e+07</td>\n",
              "      <td>3.600000e+08</td>\n",
              "      <td>2.057560e+08</td>\n",
              "      <td>1.376000e+07</td>\n",
              "      <td>20000.000000</td>\n",
              "      <td>6.000000e+07</td>\n",
              "      <td>3.503000e+07</td>\n",
              "      <td>2.000000e+08</td>\n",
              "      <td>2.744060e+08</td>\n",
              "      <td>1.300000e+08</td>\n",
              "      <td>1.000000e+08</td>\n",
              "      <td>2.400000e+07</td>\n",
              "      <td>5.000000e+07</td>\n",
              "      <td>1.000000e+07</td>\n",
              "      <td>1.680000e+07</td>\n",
              "      <td>5.000000e+07</td>\n",
              "      <td>1.536720e+08</td>\n",
              "      <td>4.000000e+07</td>\n",
              "      <td>3.092000e+08</td>\n",
              "      <td>4.000000e+07</td>\n",
              "      <td>5.000000e+07</td>\n",
              "      <td>1.600000e+07</td>\n",
              "      <td>4.000000e+07</td>\n",
              "      <td>1.500000e+08</td>\n",
              "      <td>1.500000e+08</td>\n",
              "      <td>5.161240e+08</td>\n",
              "      <td>1.601600e+08</td>\n",
              "      <td>4.400000e+06</td>\n",
              "      <td>1.200000e+08</td>\n",
              "      <td>4.528000e+07</td>\n",
              "      <td>7.600000e+07</td>\n",
              "      <td>1.235880e+08</td>\n",
              "      <td>1.300000e+08</td>\n",
              "      <td>1.444000e+08</td>\n",
              "      <td>640000.000000</td>\n",
              "      <td>3.013120e+08</td>\n",
              "      <td>1.064200e+08</td>\n",
              "      <td>1.400000e+08</td>\n",
              "      <td>6.176800e+07</td>\n",
              "      <td>4.320000e+07</td>\n",
              "    </tr>\n",
              "  </tbody>\n",
              "</table>\n",
              "<p>10 rows × 4992 columns</p>\n",
              "</div>\n",
              "      <button class=\"colab-df-convert\" onclick=\"convertToInteractive('df-a2899baa-18d2-4586-9cab-41b5c851a30e')\"\n",
              "              title=\"Convert this dataframe to an interactive table.\"\n",
              "              style=\"display:none;\">\n",
              "        \n",
              "  <svg xmlns=\"http://www.w3.org/2000/svg\" height=\"24px\"viewBox=\"0 0 24 24\"\n",
              "       width=\"24px\">\n",
              "    <path d=\"M0 0h24v24H0V0z\" fill=\"none\"/>\n",
              "    <path d=\"M18.56 5.44l.94 2.06.94-2.06 2.06-.94-2.06-.94-.94-2.06-.94 2.06-2.06.94zm-11 1L8.5 8.5l.94-2.06 2.06-.94-2.06-.94L8.5 2.5l-.94 2.06-2.06.94zm10 10l.94 2.06.94-2.06 2.06-.94-2.06-.94-.94-2.06-.94 2.06-2.06.94z\"/><path d=\"M17.41 7.96l-1.37-1.37c-.4-.4-.92-.59-1.43-.59-.52 0-1.04.2-1.43.59L10.3 9.45l-7.72 7.72c-.78.78-.78 2.05 0 2.83L4 21.41c.39.39.9.59 1.41.59.51 0 1.02-.2 1.41-.59l7.78-7.78 2.81-2.81c.8-.78.8-2.07 0-2.86zM5.41 20L4 18.59l7.72-7.72 1.47 1.35L5.41 20z\"/>\n",
              "  </svg>\n",
              "      </button>\n",
              "      \n",
              "  <style>\n",
              "    .colab-df-container {\n",
              "      display:flex;\n",
              "      flex-wrap:wrap;\n",
              "      gap: 12px;\n",
              "    }\n",
              "\n",
              "    .colab-df-convert {\n",
              "      background-color: #E8F0FE;\n",
              "      border: none;\n",
              "      border-radius: 50%;\n",
              "      cursor: pointer;\n",
              "      display: none;\n",
              "      fill: #1967D2;\n",
              "      height: 32px;\n",
              "      padding: 0 0 0 0;\n",
              "      width: 32px;\n",
              "    }\n",
              "\n",
              "    .colab-df-convert:hover {\n",
              "      background-color: #E2EBFA;\n",
              "      box-shadow: 0px 1px 2px rgba(60, 64, 67, 0.3), 0px 1px 3px 1px rgba(60, 64, 67, 0.15);\n",
              "      fill: #174EA6;\n",
              "    }\n",
              "\n",
              "    [theme=dark] .colab-df-convert {\n",
              "      background-color: #3B4455;\n",
              "      fill: #D2E3FC;\n",
              "    }\n",
              "\n",
              "    [theme=dark] .colab-df-convert:hover {\n",
              "      background-color: #434B5C;\n",
              "      box-shadow: 0px 1px 3px 1px rgba(0, 0, 0, 0.15);\n",
              "      filter: drop-shadow(0px 1px 2px rgba(0, 0, 0, 0.3));\n",
              "      fill: #FFFFFF;\n",
              "    }\n",
              "  </style>\n",
              "\n",
              "      <script>\n",
              "        const buttonEl =\n",
              "          document.querySelector('#df-a2899baa-18d2-4586-9cab-41b5c851a30e button.colab-df-convert');\n",
              "        buttonEl.style.display =\n",
              "          google.colab.kernel.accessAllowed ? 'block' : 'none';\n",
              "\n",
              "        async function convertToInteractive(key) {\n",
              "          const element = document.querySelector('#df-a2899baa-18d2-4586-9cab-41b5c851a30e');\n",
              "          const dataTable =\n",
              "            await google.colab.kernel.invokeFunction('convertToInteractive',\n",
              "                                                     [key], {});\n",
              "          if (!dataTable) return;\n",
              "\n",
              "          const docLinkHtml = 'Like what you see? Visit the ' +\n",
              "            '<a target=\"_blank\" href=https://colab.research.google.com/notebooks/data_table.ipynb>data table notebook</a>'\n",
              "            + ' to learn more about interactive tables.';\n",
              "          element.innerHTML = '';\n",
              "          dataTable['output_type'] = 'display_data';\n",
              "          await google.colab.output.renderOutput(dataTable, element);\n",
              "          const docLink = document.createElement('div');\n",
              "          docLink.innerHTML = docLinkHtml;\n",
              "          element.appendChild(docLink);\n",
              "        }\n",
              "      </script>\n",
              "    </div>\n",
              "  </div>\n",
              "  "
            ],
            "text/plain": [
              "             target     48df886f9  ...     7e293fbaf     9fc776466\n",
              "count  4.459000e+03  4.459000e+03  ...  4.459000e+03  4.459000e+03\n",
              "mean   5.944923e+06  1.465493e+04  ...  9.219960e+04  2.279100e+05\n",
              "std    8.234312e+06  3.893298e+05  ...  1.635993e+06  1.811139e+06\n",
              "min    3.000000e+04  0.000000e+00  ...  0.000000e+00  0.000000e+00\n",
              "10%    1.595556e+05  0.000000e+00  ...  0.000000e+00  0.000000e+00\n",
              "25%    6.000000e+05  0.000000e+00  ...  0.000000e+00  0.000000e+00\n",
              "50%    2.260000e+06  0.000000e+00  ...  0.000000e+00  0.000000e+00\n",
              "75%    8.000000e+06  0.000000e+00  ...  0.000000e+00  0.000000e+00\n",
              "90%    2.000000e+07  0.000000e+00  ...  0.000000e+00  0.000000e+00\n",
              "max    4.000000e+07  2.000000e+07  ...  6.176800e+07  4.320000e+07\n",
              "\n",
              "[10 rows x 4992 columns]"
            ]
          },
          "metadata": {},
          "execution_count": 5
        }
      ]
    },
    {
      "cell_type": "markdown",
      "source": [
        "As médias apresentadas, são valores na casa de milhões. Então, os clientes talvez estudados aqui nesse casa, são pessoas pj. Com isso, faz sentindo a média da variavel target ser de 5,9 mi. Tendo uma variancia alta de 8 mi aproxidamente."
      ],
      "metadata": {
        "id": "-IFngY22UiXl"
      }
    },
    {
      "cell_type": "code",
      "source": [
        "sns.histplot(df['target'])\n",
        "plt.title('Distribuição do valor de Transação')\n",
        "plt.ylabel('Frequência')\n",
        "plt.xlabel('Valor de Transação ($)')\n"
      ],
      "metadata": {
        "colab": {
          "base_uri": "https://localhost:8080/",
          "height": 421
        },
        "id": "XBaC-Y8LD5sN",
        "outputId": "8888197e-7c72-4601-8891-c6866b2a9dad"
      },
      "execution_count": null,
      "outputs": [
        {
          "output_type": "execute_result",
          "data": {
            "text/plain": [
              "Text(0.5, 0, 'Valor de Transação ($)')"
            ]
          },
          "metadata": {},
          "execution_count": 37
        },
        {
          "output_type": "display_data",
          "data": {
            "image/png": "[encoded data removed]",
            "text/plain": [
              "<Figure size 1008x432 with 1 Axes>"
            ]
          },
          "metadata": {
            "needs_background": "light"
          }
        }
      ]
    },
    {
      "cell_type": "markdown",
      "source": [
        "Observação: O histograma mostra uma distribuição assimétrica a direita,mas aponta que a grande maioria fica com o valor proximo de 5 mi. Conforme verificado também no gráfico box-plot abaixo."
      ],
      "metadata": {
        "id": "S0nyPC3UIfRz"
      }
    },
    {
      "cell_type": "code",
      "source": [
        "sns.boxplot(data=df, x='target')\n",
        "plt.title('Distribuição do valor de Transação num box-plot')\n",
        "plt.xlabel('Valor de Transação')"
      ],
      "metadata": {
        "colab": {
          "base_uri": "https://localhost:8080/",
          "height": 421
        },
        "id": "YRsE_QTNESDe",
        "outputId": "254b3adf-11f0-4022-f7b5-93ecb4d8046b"
      },
      "execution_count": null,
      "outputs": [
        {
          "output_type": "execute_result",
          "data": {
            "text/plain": [
              "Text(0.5, 0, 'Valor de Transação')"
            ]
          },
          "metadata": {},
          "execution_count": 38
        },
        {
          "output_type": "display_data",
          "data": {
            "image/png": "[encoded data removed]",
            "text/plain": [
              "<Figure size 1008x432 with 1 Axes>"
            ]
          },
          "metadata": {
            "needs_background": "light"
          }
        }
      ]
    },
    {
      "cell_type": "markdown",
      "source": [
        "Observação: O gráfico box-plot apresenta uma quantidade expressiva de outliers, na qual não serão removidos neste case, devido ter clientes que fazem transição de valores acima da média e por isso serão considerados num modelo que não sofre com influencia com outliers."
      ],
      "metadata": {
        "id": "-yfYgUlIKlm8"
      }
    },
    {
      "cell_type": "code",
      "source": [
        "df.duplicated().value_counts()"
      ],
      "metadata": {
        "colab": {
          "base_uri": "https://localhost:8080/"
        },
        "id": "Gw3e_YDfKkxi",
        "outputId": "ce2edc09-a98c-4fb0-b18d-550c71478cf4"
      },
      "execution_count": null,
      "outputs": [
        {
          "output_type": "execute_result",
          "data": {
            "text/plain": [
              "False    4459\n",
              "dtype: int64"
            ]
          },
          "metadata": {},
          "execution_count": 8
        }
      ]
    },
    {
      "cell_type": "markdown",
      "metadata": {
        "id": "dJb8t7tX9M1C"
      },
      "source": [
        "#4. Separação da base de Treino e Teste"
      ]
    },
    {
      "cell_type": "code",
      "metadata": {
        "id": "WQ-fKsIA7-tj"
      },
      "source": [
        "id = df[\"ID\"]\n",
        "y = df[\"target\"]\n",
        "X = df.drop([\"ID\", \"target\"], axis=1)"
      ],
      "execution_count": null,
      "outputs": []
    },
    {
      "cell_type": "code",
      "metadata": {
        "id": "L43SyG6W8fj4"
      },
      "source": [
        "X_train, X_test, y_train, y_test = train_test_split(\n",
        "    X, y, test_size=0.20, random_state=42)"
      ],
      "execution_count": null,
      "outputs": []
    },
    {
      "cell_type": "markdown",
      "metadata": {
        "id": "7h8Jb7jG9ZHE"
      },
      "source": [
        "#5. Modelagem"
      ]
    },
    {
      "cell_type": "markdown",
      "source": [
        "Para fins de estudo, iremos utlizar 3 modelos: O linear Regression, O Randon Forest e o XGboost"
      ],
      "metadata": {
        "id": "5iqCeb2nYVDN"
      }
    },
    {
      "cell_type": "markdown",
      "source": [
        "##5.1 Baseline do Modelo"
      ],
      "metadata": {
        "id": "B0oWZQtAYl4b"
      }
    },
    {
      "cell_type": "code",
      "metadata": {
        "id": "kbTNx1AC9Xhj"
      },
      "source": [
        "reg = LinearRegression().fit(X_train, y_train)"
      ],
      "execution_count": null,
      "outputs": []
    },
    {
      "cell_type": "code",
      "metadata": {
        "colab": {
          "base_uri": "https://localhost:8080/"
        },
        "id": "gdud2sDZ9hZT",
        "outputId": "553b14d4-1500-4154-b769-031a83a220e9"
      },
      "source": [
        "y_train_pred = reg.predict(X_train)\n",
        "y_pred = reg.predict(X_test)\n",
        "print(f'MAE_treino: {mean_absolute_error(y_train, y_train_pred)}')\n",
        "print(f'MAE_teste: {mean_absolute_error(y_test, y_pred)}')"
      ],
      "execution_count": null,
      "outputs": [
        {
          "output_type": "stream",
          "name": "stdout",
          "text": [
            "MAE_treino: 13365.819988715726\n",
            "MAE_teste: 406402827989822.06\n"
          ]
        }
      ]
    },
    {
      "cell_type": "markdown",
      "source": [
        "Observação: Aqui foi usado o MAE como métrica, porque como é um valor a ser estimado, é bom para area de negocio saber a média de valor que se estar errando. O MAE dos dados do treino foi muito melhor que o de teste, mostrando um possivel overfit no dados, possivelmente por o dataset apresentra mais features que registros."
      ],
      "metadata": {
        "id": "lnZaKRb9V7jC"
      }
    },
    {
      "cell_type": "markdown",
      "source": [
        "##5.2 Selecionando features para o modelo"
      ],
      "metadata": {
        "id": "65xMl5ZrYJr1"
      }
    },
    {
      "cell_type": "markdown",
      "source": [
        "Para contornar o overfit no modelo, se optou usar a função `SelectKBest`, que escolhe features da biblioteca `Sckit-learn` para um modelo atraves de testes estatísticos, selecionando os atributos que possuem uma forte relação com a nossa variavel target. Com isso, usamos o ` f_regression`, que é o metodo usado dentro da função para problemas de regressão.\n",
        "\n",
        "\n",
        "\n"
      ],
      "metadata": {
        "id": "jQzQQh_2V7Pt"
      }
    },
    {
      "cell_type": "code",
      "metadata": {
        "id": "0MIdc-mf9_J7"
      },
      "source": [
        "sel_kbest = SelectKBest(f_regression, k=45).fit(X_train, y_train)"
      ],
      "execution_count": null,
      "outputs": []
    },
    {
      "cell_type": "code",
      "metadata": {
        "id": "HbvupIvx__ve"
      },
      "source": [
        "X_train_sel = sel_kbest.transform(X_train)\n",
        "X_test_sel = sel_kbest.transform(X_test)"
      ],
      "execution_count": null,
      "outputs": []
    },
    {
      "cell_type": "code",
      "metadata": {
        "colab": {
          "base_uri": "https://localhost:8080/"
        },
        "id": "9st1FXP7Ac8C",
        "outputId": "53a0f4e3-d272-4e2f-b732-8818a34f6bde"
      },
      "source": [
        "X_train_sel.shape"
      ],
      "execution_count": null,
      "outputs": [
        {
          "output_type": "execute_result",
          "data": {
            "text/plain": [
              "(3567, 45)"
            ]
          },
          "metadata": {},
          "execution_count": 49
        }
      ]
    },
    {
      "cell_type": "markdown",
      "source": [
        "###5.3 LinearRegression"
      ],
      "metadata": {
        "id": "Z9QvxhrioJF3"
      }
    },
    {
      "cell_type": "code",
      "metadata": {
        "colab": {
          "base_uri": "https://localhost:8080/"
        },
        "id": "s_dCxMioAerr",
        "outputId": "9ef54802-737b-462f-cc03-62d36f1960ff"
      },
      "source": [
        "reg = LinearRegression().fit(X_train_sel, y_train)\n",
        "\n",
        "y_train_pred = reg.predict(X_train_sel)\n",
        "y_pred = reg.predict(X_test_sel)\n",
        "\n",
        "print(f'MAE_treino: {mean_absolute_error(y_train, y_train_pred)}')\n",
        "print(f'MAE_teste: {mean_absolute_error(y_test, y_pred)}')"
      ],
      "execution_count": null,
      "outputs": [
        {
          "output_type": "stream",
          "name": "stdout",
          "text": [
            "MAE_treino: 5322548.588998503\n",
            "MAE_teste: 5230263.099091363\n"
          ]
        }
      ]
    },
    {
      "cell_type": "markdown",
      "source": [
        "Fazendo uma comparação com  a métrica MAE antes da seleção de features, vimos que a predição do modelo melhorou significativamente. Mas, a métrica utilizada aqui não é uma das melhores para o case. Mas, o valor dado no MAE, ficou na média que vimos na variavel target."
      ],
      "metadata": {
        "id": "JUkWiFpiY9bX"
      }
    },
    {
      "cell_type": "markdown",
      "metadata": {
        "id": "jOU2GTIZB4Vj"
      },
      "source": [
        "####5.3.1 Mudando a métrica"
      ]
    },
    {
      "cell_type": "markdown",
      "source": [
        "Vamos usar o `mean squared log error`, devido ser a métrica escolhida pelo Santander no case disponivel no Kaggle."
      ],
      "metadata": {
        "id": "xDYw_EWspwo9"
      }
    },
    {
      "cell_type": "code",
      "metadata": {
        "id": "1DnswI9JECry"
      },
      "source": [
        "y_train_pred = reg.predict(X_train_sel)\n",
        "y_pred = reg.predict(X_test_sel)"
      ],
      "execution_count": null,
      "outputs": []
    },
    {
      "cell_type": "markdown",
      "source": [
        "Filtrando os valores maiores que zero, pois a métrica escolhida não consegue ler valores negativos que aparecem devido a regressão linear."
      ],
      "metadata": {
        "id": "GMRCAglHqJ1_"
      }
    },
    {
      "cell_type": "code",
      "metadata": {
        "id": "Cw-YQHZdEz8f"
      },
      "source": [
        "y_train = y_train[y_train_pred > 0]\n",
        "y_train_pred = y_train_pred[y_train_pred > 0]\n",
        "y_test = y_test[y_pred > 0]\n",
        "y_pred = y_pred[y_pred > 0]"
      ],
      "execution_count": null,
      "outputs": []
    },
    {
      "cell_type": "code",
      "source": [
        "print(f'MSLE_treino: {mean_squared_log_error(y_train, y_train_pred)}')\n",
        "print(f'MSLE_teste: {mean_squared_log_error(y_test, y_pred)}')"
      ],
      "metadata": {
        "colab": {
          "base_uri": "https://localhost:8080/"
        },
        "id": "N-bcwTrthTM5",
        "outputId": "6ca81f90-94b0-4f07-bef3-9d4973f25966"
      },
      "execution_count": null,
      "outputs": [
        {
          "output_type": "stream",
          "name": "stdout",
          "text": [
            "MSLE_treino: 3.9112778699926625\n",
            "MSLE_teste: 3.74522707164624\n"
          ]
        }
      ]
    },
    {
      "cell_type": "markdown",
      "source": [
        "Com o MSLE podemos verificar melhor o desempenho do modelo nesse caso. A métrica não penaliza erros grandes, e só prever pequenas diferenças entreo valor previsto e o real."
      ],
      "metadata": {
        "id": "o5VONRjmfVu5"
      }
    },
    {
      "cell_type": "markdown",
      "metadata": {
        "id": "UyP1k8B-Gegv"
      },
      "source": [
        "##5.4 RandonForestRegressor\n",
        "\n",
        "\n"
      ]
    },
    {
      "cell_type": "code",
      "metadata": {
        "id": "yXDjGMK2G4gt"
      },
      "source": [
        "X_train, X_test, y_train, y_test = train_test_split(\n",
        "    X, y, test_size=0.20, random_state=42)"
      ],
      "execution_count": null,
      "outputs": []
    },
    {
      "cell_type": "code",
      "metadata": {
        "id": "kIAj8sOyG9WS"
      },
      "source": [
        "sel_kbest = SelectKBest(f_regression, k=45).fit(X_train, y_train)\n",
        "X_train_sel = sel_kbest.transform(X_train)\n",
        "X_test_sel = sel_kbest.transform(X_test)"
      ],
      "execution_count": null,
      "outputs": []
    },
    {
      "cell_type": "code",
      "metadata": {
        "colab": {
          "base_uri": "https://localhost:8080/"
        },
        "id": "FZmPPSHADpyO",
        "outputId": "c0ebab9a-d3d2-46b0-84be-92114ef39550"
      },
      "source": [
        "regr = RandomForestRegressor(max_depth=6, random_state=0)\n",
        "regr.fit(X_train_sel, y_train)"
      ],
      "execution_count": null,
      "outputs": [
        {
          "output_type": "execute_result",
          "data": {
            "text/plain": [
              "RandomForestRegressor(max_depth=6, random_state=0)"
            ]
          },
          "metadata": {},
          "execution_count": 22
        }
      ]
    },
    {
      "cell_type": "code",
      "metadata": {
        "colab": {
          "base_uri": "https://localhost:8080/"
        },
        "id": "P6ihjCdPGyGr",
        "outputId": "1141fed8-92dd-4f53-fdd0-4d98191ef8de"
      },
      "source": [
        "y_train_pred = regr.predict(X_train_sel)\n",
        "y_pred = regr.predict(X_test_sel)\n",
        "\n",
        "\n",
        "print(f'MSLE_treino: {mean_squared_log_error(y_train, y_train_pred)}')\n",
        "print(f'MSLE_teste: {mean_squared_log_error(y_test, y_pred)}')\n"
      ],
      "execution_count": null,
      "outputs": [
        {
          "output_type": "stream",
          "name": "stdout",
          "text": [
            "MSLE_treino: 3.8324753278229275\n",
            "MSLE_teste: 3.719739927585444\n"
          ]
        }
      ]
    },
    {
      "cell_type": "markdown",
      "source": [
        "O valor da métrica no Randon Forest foi relativamente melhor do que no Linear Regression de ~ 0.03."
      ],
      "metadata": {
        "id": "ZN4nep6mhkH3"
      }
    },
    {
      "cell_type": "markdown",
      "source": [
        "###5.4.1 Otimizando os Hiperparametros"
      ],
      "metadata": {
        "id": "K5T0VDppiUA5"
      }
    },
    {
      "cell_type": "markdown",
      "source": [
        "Vamos utilizar o algoritmo Grid Search que é encontrado na biblioteca do sklearn. Ele vai buscar a melhor configuração de um conjuto de valores pré-estabelecido."
      ],
      "metadata": {
        "id": "xf0bxZTliliF"
      }
    },
    {
      "cell_type": "code",
      "metadata": {
        "colab": {
          "base_uri": "https://localhost:8080/"
        },
        "id": "MzNPfSDZHK-9",
        "outputId": "cd2633d0-ae60-4705-bfd1-0054833b71e0"
      },
      "source": [
        "parameters = {'max_depth':[2, 6, 10, 20], 'n_estimators':[20, 50, 100, 200]}\n",
        "regr = RandomForestRegressor(random_state=0, n_jobs=-1)\n",
        "\n",
        "clf = GridSearchCV(regr, parameters)\n",
        "clf.fit(X_train_sel, y_train)"
      ],
      "execution_count": null,
      "outputs": [
        {
          "output_type": "execute_result",
          "data": {
            "text/plain": [
              "GridSearchCV(estimator=RandomForestRegressor(n_jobs=-1, random_state=0),\n",
              "             param_grid={'max_depth': [2, 6, 10, 20],\n",
              "                         'n_estimators': [20, 50, 100, 200]})"
            ]
          },
          "metadata": {},
          "execution_count": 24
        }
      ]
    },
    {
      "cell_type": "code",
      "metadata": {
        "colab": {
          "base_uri": "https://localhost:8080/"
        },
        "id": "SdotSaOqIDRx",
        "outputId": "75df58b3-ebe7-418b-86a9-996c0b2919cb"
      },
      "source": [
        "y_train_pred = clf.predict(X_train_sel)\n",
        "y_pred = clf.predict(X_test_sel)\n",
        "\n",
        "\n",
        "print(f'MSLE_treino: {mean_squared_log_error(y_train, y_train_pred)}')\n",
        "print(f'MSLE_teste: {mean_squared_log_error(y_test, y_pred)}')"
      ],
      "execution_count": null,
      "outputs": [
        {
          "output_type": "stream",
          "name": "stdout",
          "text": [
            "MSLE_treino: 2.6419218238697284\n",
            "MSLE_teste: 3.2293333350212725\n"
          ]
        }
      ]
    },
    {
      "cell_type": "markdown",
      "source": [
        "Como podemos verificar o modelo melhorou em ~ 0.49. Bastante significativa só com um simples ajuste de hiperparametro."
      ],
      "metadata": {
        "id": "PJegghqQkCLn"
      }
    },
    {
      "cell_type": "code",
      "metadata": {
        "colab": {
          "base_uri": "https://localhost:8080/"
        },
        "id": "4aMG2xmYIHPN",
        "outputId": "470f718f-5462-4c63-acce-b5c02085457a"
      },
      "source": [
        "clf.best_estimator_"
      ],
      "execution_count": null,
      "outputs": [
        {
          "output_type": "execute_result",
          "data": {
            "text/plain": [
              "RandomForestRegressor(max_depth=20, n_estimators=200, n_jobs=-1, random_state=0)"
            ]
          },
          "metadata": {},
          "execution_count": 26
        }
      ]
    },
    {
      "cell_type": "markdown",
      "source": [
        "##5.5 XGBoost Regressor"
      ],
      "metadata": {
        "id": "ElOgWb6RpB2t"
      }
    },
    {
      "cell_type": "code",
      "source": [
        "X_train, X_test, y_train, y_test = train_test_split(\n",
        "    X, y, test_size=0.20, random_state=42)"
      ],
      "metadata": {
        "id": "GLNuHgeKvrGl"
      },
      "execution_count": null,
      "outputs": []
    },
    {
      "cell_type": "code",
      "source": [
        "sel_kbest = SelectKBest(f_regression, k=45).fit(X_train, y_train)\n",
        "X_train_sel = sel_kbest.transform(X_train)\n",
        "X_test_sel = sel_kbest.transform(X_test)"
      ],
      "metadata": {
        "id": "vKpKUI05vvti"
      },
      "execution_count": null,
      "outputs": []
    },
    {
      "cell_type": "code",
      "source": [
        "parameters = {'max_depth':[2, 6, 10, 20], 'n_estimators':[200]}"
      ],
      "metadata": {
        "id": "71ninwJqpRfI"
      },
      "execution_count": null,
      "outputs": []
    },
    {
      "cell_type": "code",
      "source": [
        "xgbGrid = GridSearchCV(XGBRegressor(),parameters, verbose=True)"
      ],
      "metadata": {
        "id": "DHk2U0M-gEKG"
      },
      "execution_count": null,
      "outputs": []
    },
    {
      "cell_type": "code",
      "source": [
        "xgbGridModel = xgbGrid.fit(X_train_sel, y_train)"
      ],
      "metadata": {
        "colab": {
          "base_uri": "https://localhost:8080/"
        },
        "id": "zP1vfMWVgN1I",
        "outputId": "22da1ae5-c6ac-4f54-a5f5-d26d717740b7"
      },
      "execution_count": null,
      "outputs": [
        {
          "output_type": "stream",
          "name": "stdout",
          "text": [
            "Fitting 5 folds for each of 4 candidates, totalling 20 fits\n",
            "[18:13:44] WARNING: /workspace/src/objective/regression_obj.cu:152: reg:linear is now deprecated in favor of reg:squarederror.\n",
            "[18:13:45] WARNING: /workspace/src/objective/regression_obj.cu:152: reg:linear is now deprecated in favor of reg:squarederror.\n",
            "[18:13:45] WARNING: /workspace/src/objective/regression_obj.cu:152: reg:linear is now deprecated in favor of reg:squarederror.\n",
            "[18:13:46] WARNING: /workspace/src/objective/regression_obj.cu:152: reg:linear is now deprecated in favor of reg:squarederror.\n",
            "[18:13:47] WARNING: /workspace/src/objective/regression_obj.cu:152: reg:linear is now deprecated in favor of reg:squarederror.\n",
            "[18:13:47] WARNING: /workspace/src/objective/regression_obj.cu:152: reg:linear is now deprecated in favor of reg:squarederror.\n",
            "[18:13:49] WARNING: /workspace/src/objective/regression_obj.cu:152: reg:linear is now deprecated in favor of reg:squarederror.\n",
            "[18:13:51] WARNING: /workspace/src/objective/regression_obj.cu:152: reg:linear is now deprecated in favor of reg:squarederror.\n",
            "[18:13:53] WARNING: /workspace/src/objective/regression_obj.cu:152: reg:linear is now deprecated in favor of reg:squarederror.\n",
            "[18:13:54] WARNING: /workspace/src/objective/regression_obj.cu:152: reg:linear is now deprecated in favor of reg:squarederror.\n",
            "[18:13:56] WARNING: /workspace/src/objective/regression_obj.cu:152: reg:linear is now deprecated in favor of reg:squarederror.\n",
            "[18:13:59] WARNING: /workspace/src/objective/regression_obj.cu:152: reg:linear is now deprecated in favor of reg:squarederror.\n",
            "[18:14:01] WARNING: /workspace/src/objective/regression_obj.cu:152: reg:linear is now deprecated in favor of reg:squarederror.\n",
            "[18:14:04] WARNING: /workspace/src/objective/regression_obj.cu:152: reg:linear is now deprecated in favor of reg:squarederror.\n",
            "[18:14:07] WARNING: /workspace/src/objective/regression_obj.cu:152: reg:linear is now deprecated in favor of reg:squarederror.\n",
            "[18:14:10] WARNING: /workspace/src/objective/regression_obj.cu:152: reg:linear is now deprecated in favor of reg:squarederror.\n",
            "[18:14:17] WARNING: /workspace/src/objective/regression_obj.cu:152: reg:linear is now deprecated in favor of reg:squarederror.\n",
            "[18:14:28] WARNING: /workspace/src/objective/regression_obj.cu:152: reg:linear is now deprecated in favor of reg:squarederror.\n",
            "[18:14:35] WARNING: /workspace/src/objective/regression_obj.cu:152: reg:linear is now deprecated in favor of reg:squarederror.\n",
            "[18:14:42] WARNING: /workspace/src/objective/regression_obj.cu:152: reg:linear is now deprecated in favor of reg:squarederror.\n",
            "[18:14:50] WARNING: /workspace/src/objective/regression_obj.cu:152: reg:linear is now deprecated in favor of reg:squarederror.\n"
          ]
        }
      ]
    },
    {
      "cell_type": "code",
      "source": [
        "xgbGridModel.best_params_"
      ],
      "metadata": {
        "colab": {
          "base_uri": "https://localhost:8080/"
        },
        "id": "aUCovu8JiRQh",
        "outputId": "b3b0ab05-a3c4-4700-820f-e7ec14e2f6bb"
      },
      "execution_count": null,
      "outputs": [
        {
          "output_type": "execute_result",
          "data": {
            "text/plain": [
              "{'max_depth': 2, 'n_estimators': 200}"
            ]
          },
          "metadata": {},
          "execution_count": 32
        }
      ]
    },
    {
      "cell_type": "code",
      "source": [
        "y_train_pred = xgbGridModel.predict(X_train_sel)\n",
        "yGrid_pred = xgbGridModel.predict(X_test_sel)\n"
      ],
      "metadata": {
        "id": "3aIFnV4vifBZ"
      },
      "execution_count": null,
      "outputs": []
    },
    {
      "cell_type": "code",
      "source": [
        "y_train = y_train[y_train_pred > 0]\n",
        "y_train_pred = y_train_pred[y_train_pred > 0]\n",
        "y_test = y_test[yGrid_pred > 0]\n",
        "y_pred = yGrid_pred[yGrid_pred > 0]"
      ],
      "metadata": {
        "id": "aHMhLQLHjB1I"
      },
      "execution_count": null,
      "outputs": []
    },
    {
      "cell_type": "code",
      "source": [
        "print(f'MSLE_treino: {mean_squared_log_error(y_train, y_train_pred)}')\n",
        "print(f'MSLE_teste: {mean_squared_log_error(y_test, y_pred)}')"
      ],
      "metadata": {
        "colab": {
          "base_uri": "https://localhost:8080/"
        },
        "id": "osTQCPiLi1Gv",
        "outputId": "5cad0111-0e27-42c6-8d6e-c6a7efdd479b"
      },
      "execution_count": null,
      "outputs": [
        {
          "output_type": "stream",
          "name": "stdout",
          "text": [
            "MSLE_treino: 3.3821099193234208\n",
            "MSLE_teste: 3.4530056731640535\n"
          ]
        }
      ]
    },
    {
      "cell_type": "markdown",
      "source": [
        "Já, o XGboost não foi tão performático que o Randon Forest,talvez um ajuste melhor de hiperparametro, conseguiriamos melhorar a métrica."
      ],
      "metadata": {
        "id": "30rTymGgktjv"
      }
    },
    {
      "cell_type": "markdown",
      "source": [
        "#6. Conclusão"
      ],
      "metadata": {
        "id": "EL9C9FekwI3v"
      }
    },
    {
      "cell_type": "markdown",
      "source": [
        "O modelo que apresentou uma melhor perfomance dos dados foi o Randon Forest regresson, apresentou um `mean_squared_log_error` de 3.22 com ajuste dos hiperparametros, já o linear Regression apresentou a pior métrica de 3.74. Os dados ainda podem melhorar, fazendo um melhor ajuste nos hiperparametros no modelo e talvez utilizando outros modelos para teste."
      ],
      "metadata": {
        "id": "cgHZ5h41wMGy"
      }
    }
  ]
}
